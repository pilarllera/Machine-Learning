{
  "cells": [
    {
      "cell_type": "markdown",
      "metadata": {
        "id": "OUBRwgEu3yu1"
      },
      "source": [
        "# Actividad 9B\n",
        "\n",
        "\n",
        "El objetivo de esta actividad es aplicar los conceptos teóricos vistos en los materiales presentados en la actividad 9A.\n",
        "\n",
        "Para que los resultados sean reproducibles (los resultados no varíen entre ejecuciones), recuerda establecer el parámetro `random_state` en todas las funciones que tomen decisiones aleatorias para que los resultados sean reproducibles. Para ello usaremos la siguiente constante."
      ]
    },
    {
      "cell_type": "code",
      "execution_count": null,
      "metadata": {
        "id": "V3YxCTUW3yu9"
      },
      "outputs": [],
      "source": [
        "RANDOM_STATE = 1234"
      ]
    },
    {
      "cell_type": "markdown",
      "metadata": {
        "id": "de-i8w0s3yvC"
      },
      "source": [
        "__Nombre: XX__\n"
      ]
    },
    {
      "cell_type": "markdown",
      "metadata": {
        "id": "yeVD_g2D3yvC"
      },
      "source": [
        "### Carga del conjunto de datos\n",
        "\n",
        "El fichero `IMBD_Dataset.csv` contiene opiniones de películas clasificadas en 2 categorías diferentes (positiva/negativa).\n",
        "\n",
        "Este set de datos se creó utilizando el \"IMDB Dataset of 50K Movie Reviews\", el cual contiene 50,000 reseñas de películas con un sentimiento positivo o negativo adjunto a ellas."
      ]
    },
    {
      "cell_type": "code",
      "execution_count": 1,
      "metadata": {
        "colab": {
          "base_uri": "https://localhost:8080/"
        },
        "id": "5YyPy4BDfzGQ",
        "outputId": "81059737-3906-4fa4-aa50-d4c4c69435a7"
      },
      "outputs": [
        {
          "output_type": "stream",
          "name": "stdout",
          "text": [
            "Mounted at /content/drive\n"
          ]
        }
      ],
      "source": [
        "# acceso a google drive\n",
        "\n",
        "from google.colab import drive\n",
        "drive.mount('/content/drive')"
      ]
    },
    {
      "cell_type": "code",
      "execution_count": 2,
      "metadata": {
        "id": "0csu2B8N3yvE"
      },
      "outputs": [],
      "source": [
        "import pandas as pd\n",
        "import numpy as np\n"
      ]
    },
    {
      "cell_type": "code",
      "execution_count": 3,
      "metadata": {
        "colab": {
          "base_uri": "https://localhost:8080/",
          "height": 206
        },
        "id": "kmcEfPgYf1Fk",
        "outputId": "dbdde39e-fa57-43e7-8753-9cdd4480e7e0"
      },
      "outputs": [
        {
          "output_type": "execute_result",
          "data": {
            "text/plain": [
              "                                              review sentiment\n",
              "0  One of the other reviewers has mentioned that ...  positive\n",
              "1  A wonderful little production. <br /><br />The...  positive\n",
              "2  I thought this was a wonderful way to spend ti...  positive\n",
              "3  Basically there's a family where a little boy ...  negative\n",
              "4  Petter Mattei's \"Love in the Time of Money\" is...  positive"
            ],
            "text/html": [
              "\n",
              "  <div id=\"df-e6b0c488-2830-4dbd-b3b7-f870ce6c1158\" class=\"colab-df-container\">\n",
              "    <div>\n",
              "<style scoped>\n",
              "    .dataframe tbody tr th:only-of-type {\n",
              "        vertical-align: middle;\n",
              "    }\n",
              "\n",
              "    .dataframe tbody tr th {\n",
              "        vertical-align: top;\n",
              "    }\n",
              "\n",
              "    .dataframe thead th {\n",
              "        text-align: right;\n",
              "    }\n",
              "</style>\n",
              "<table border=\"1\" class=\"dataframe\">\n",
              "  <thead>\n",
              "    <tr style=\"text-align: right;\">\n",
              "      <th></th>\n",
              "      <th>review</th>\n",
              "      <th>sentiment</th>\n",
              "    </tr>\n",
              "  </thead>\n",
              "  <tbody>\n",
              "    <tr>\n",
              "      <th>0</th>\n",
              "      <td>One of the other reviewers has mentioned that ...</td>\n",
              "      <td>positive</td>\n",
              "    </tr>\n",
              "    <tr>\n",
              "      <th>1</th>\n",
              "      <td>A wonderful little production. &lt;br /&gt;&lt;br /&gt;The...</td>\n",
              "      <td>positive</td>\n",
              "    </tr>\n",
              "    <tr>\n",
              "      <th>2</th>\n",
              "      <td>I thought this was a wonderful way to spend ti...</td>\n",
              "      <td>positive</td>\n",
              "    </tr>\n",
              "    <tr>\n",
              "      <th>3</th>\n",
              "      <td>Basically there's a family where a little boy ...</td>\n",
              "      <td>negative</td>\n",
              "    </tr>\n",
              "    <tr>\n",
              "      <th>4</th>\n",
              "      <td>Petter Mattei's \"Love in the Time of Money\" is...</td>\n",
              "      <td>positive</td>\n",
              "    </tr>\n",
              "  </tbody>\n",
              "</table>\n",
              "</div>\n",
              "    <div class=\"colab-df-buttons\">\n",
              "\n",
              "  <div class=\"colab-df-container\">\n",
              "    <button class=\"colab-df-convert\" onclick=\"convertToInteractive('df-e6b0c488-2830-4dbd-b3b7-f870ce6c1158')\"\n",
              "            title=\"Convert this dataframe to an interactive table.\"\n",
              "            style=\"display:none;\">\n",
              "\n",
              "  <svg xmlns=\"http://www.w3.org/2000/svg\" height=\"24px\" viewBox=\"0 -960 960 960\">\n",
              "    <path d=\"M120-120v-720h720v720H120Zm60-500h600v-160H180v160Zm220 220h160v-160H400v160Zm0 220h160v-160H400v160ZM180-400h160v-160H180v160Zm440 0h160v-160H620v160ZM180-180h160v-160H180v160Zm440 0h160v-160H620v160Z\"/>\n",
              "  </svg>\n",
              "    </button>\n",
              "\n",
              "  <style>\n",
              "    .colab-df-container {\n",
              "      display:flex;\n",
              "      gap: 12px;\n",
              "    }\n",
              "\n",
              "    .colab-df-convert {\n",
              "      background-color: #E8F0FE;\n",
              "      border: none;\n",
              "      border-radius: 50%;\n",
              "      cursor: pointer;\n",
              "      display: none;\n",
              "      fill: #1967D2;\n",
              "      height: 32px;\n",
              "      padding: 0 0 0 0;\n",
              "      width: 32px;\n",
              "    }\n",
              "\n",
              "    .colab-df-convert:hover {\n",
              "      background-color: #E2EBFA;\n",
              "      box-shadow: 0px 1px 2px rgba(60, 64, 67, 0.3), 0px 1px 3px 1px rgba(60, 64, 67, 0.15);\n",
              "      fill: #174EA6;\n",
              "    }\n",
              "\n",
              "    .colab-df-buttons div {\n",
              "      margin-bottom: 4px;\n",
              "    }\n",
              "\n",
              "    [theme=dark] .colab-df-convert {\n",
              "      background-color: #3B4455;\n",
              "      fill: #D2E3FC;\n",
              "    }\n",
              "\n",
              "    [theme=dark] .colab-df-convert:hover {\n",
              "      background-color: #434B5C;\n",
              "      box-shadow: 0px 1px 3px 1px rgba(0, 0, 0, 0.15);\n",
              "      filter: drop-shadow(0px 1px 2px rgba(0, 0, 0, 0.3));\n",
              "      fill: #FFFFFF;\n",
              "    }\n",
              "  </style>\n",
              "\n",
              "    <script>\n",
              "      const buttonEl =\n",
              "        document.querySelector('#df-e6b0c488-2830-4dbd-b3b7-f870ce6c1158 button.colab-df-convert');\n",
              "      buttonEl.style.display =\n",
              "        google.colab.kernel.accessAllowed ? 'block' : 'none';\n",
              "\n",
              "      async function convertToInteractive(key) {\n",
              "        const element = document.querySelector('#df-e6b0c488-2830-4dbd-b3b7-f870ce6c1158');\n",
              "        const dataTable =\n",
              "          await google.colab.kernel.invokeFunction('convertToInteractive',\n",
              "                                                    [key], {});\n",
              "        if (!dataTable) return;\n",
              "\n",
              "        const docLinkHtml = 'Like what you see? Visit the ' +\n",
              "          '<a target=\"_blank\" href=https://colab.research.google.com/notebooks/data_table.ipynb>data table notebook</a>'\n",
              "          + ' to learn more about interactive tables.';\n",
              "        element.innerHTML = '';\n",
              "        dataTable['output_type'] = 'display_data';\n",
              "        await google.colab.output.renderOutput(dataTable, element);\n",
              "        const docLink = document.createElement('div');\n",
              "        docLink.innerHTML = docLinkHtml;\n",
              "        element.appendChild(docLink);\n",
              "      }\n",
              "    </script>\n",
              "  </div>\n",
              "\n",
              "\n",
              "<div id=\"df-e28b6cc9-6e1a-4262-bfe5-227339ce217d\">\n",
              "  <button class=\"colab-df-quickchart\" onclick=\"quickchart('df-e28b6cc9-6e1a-4262-bfe5-227339ce217d')\"\n",
              "            title=\"Suggest charts\"\n",
              "            style=\"display:none;\">\n",
              "\n",
              "<svg xmlns=\"http://www.w3.org/2000/svg\" height=\"24px\"viewBox=\"0 0 24 24\"\n",
              "     width=\"24px\">\n",
              "    <g>\n",
              "        <path d=\"M19 3H5c-1.1 0-2 .9-2 2v14c0 1.1.9 2 2 2h14c1.1 0 2-.9 2-2V5c0-1.1-.9-2-2-2zM9 17H7v-7h2v7zm4 0h-2V7h2v10zm4 0h-2v-4h2v4z\"/>\n",
              "    </g>\n",
              "</svg>\n",
              "  </button>\n",
              "\n",
              "<style>\n",
              "  .colab-df-quickchart {\n",
              "      --bg-color: #E8F0FE;\n",
              "      --fill-color: #1967D2;\n",
              "      --hover-bg-color: #E2EBFA;\n",
              "      --hover-fill-color: #174EA6;\n",
              "      --disabled-fill-color: #AAA;\n",
              "      --disabled-bg-color: #DDD;\n",
              "  }\n",
              "\n",
              "  [theme=dark] .colab-df-quickchart {\n",
              "      --bg-color: #3B4455;\n",
              "      --fill-color: #D2E3FC;\n",
              "      --hover-bg-color: #434B5C;\n",
              "      --hover-fill-color: #FFFFFF;\n",
              "      --disabled-bg-color: #3B4455;\n",
              "      --disabled-fill-color: #666;\n",
              "  }\n",
              "\n",
              "  .colab-df-quickchart {\n",
              "    background-color: var(--bg-color);\n",
              "    border: none;\n",
              "    border-radius: 50%;\n",
              "    cursor: pointer;\n",
              "    display: none;\n",
              "    fill: var(--fill-color);\n",
              "    height: 32px;\n",
              "    padding: 0;\n",
              "    width: 32px;\n",
              "  }\n",
              "\n",
              "  .colab-df-quickchart:hover {\n",
              "    background-color: var(--hover-bg-color);\n",
              "    box-shadow: 0 1px 2px rgba(60, 64, 67, 0.3), 0 1px 3px 1px rgba(60, 64, 67, 0.15);\n",
              "    fill: var(--button-hover-fill-color);\n",
              "  }\n",
              "\n",
              "  .colab-df-quickchart-complete:disabled,\n",
              "  .colab-df-quickchart-complete:disabled:hover {\n",
              "    background-color: var(--disabled-bg-color);\n",
              "    fill: var(--disabled-fill-color);\n",
              "    box-shadow: none;\n",
              "  }\n",
              "\n",
              "  .colab-df-spinner {\n",
              "    border: 2px solid var(--fill-color);\n",
              "    border-color: transparent;\n",
              "    border-bottom-color: var(--fill-color);\n",
              "    animation:\n",
              "      spin 1s steps(1) infinite;\n",
              "  }\n",
              "\n",
              "  @keyframes spin {\n",
              "    0% {\n",
              "      border-color: transparent;\n",
              "      border-bottom-color: var(--fill-color);\n",
              "      border-left-color: var(--fill-color);\n",
              "    }\n",
              "    20% {\n",
              "      border-color: transparent;\n",
              "      border-left-color: var(--fill-color);\n",
              "      border-top-color: var(--fill-color);\n",
              "    }\n",
              "    30% {\n",
              "      border-color: transparent;\n",
              "      border-left-color: var(--fill-color);\n",
              "      border-top-color: var(--fill-color);\n",
              "      border-right-color: var(--fill-color);\n",
              "    }\n",
              "    40% {\n",
              "      border-color: transparent;\n",
              "      border-right-color: var(--fill-color);\n",
              "      border-top-color: var(--fill-color);\n",
              "    }\n",
              "    60% {\n",
              "      border-color: transparent;\n",
              "      border-right-color: var(--fill-color);\n",
              "    }\n",
              "    80% {\n",
              "      border-color: transparent;\n",
              "      border-right-color: var(--fill-color);\n",
              "      border-bottom-color: var(--fill-color);\n",
              "    }\n",
              "    90% {\n",
              "      border-color: transparent;\n",
              "      border-bottom-color: var(--fill-color);\n",
              "    }\n",
              "  }\n",
              "</style>\n",
              "\n",
              "  <script>\n",
              "    async function quickchart(key) {\n",
              "      const quickchartButtonEl =\n",
              "        document.querySelector('#' + key + ' button');\n",
              "      quickchartButtonEl.disabled = true;  // To prevent multiple clicks.\n",
              "      quickchartButtonEl.classList.add('colab-df-spinner');\n",
              "      try {\n",
              "        const charts = await google.colab.kernel.invokeFunction(\n",
              "            'suggestCharts', [key], {});\n",
              "      } catch (error) {\n",
              "        console.error('Error during call to suggestCharts:', error);\n",
              "      }\n",
              "      quickchartButtonEl.classList.remove('colab-df-spinner');\n",
              "      quickchartButtonEl.classList.add('colab-df-quickchart-complete');\n",
              "    }\n",
              "    (() => {\n",
              "      let quickchartButtonEl =\n",
              "        document.querySelector('#df-e28b6cc9-6e1a-4262-bfe5-227339ce217d button');\n",
              "      quickchartButtonEl.style.display =\n",
              "        google.colab.kernel.accessAllowed ? 'block' : 'none';\n",
              "    })();\n",
              "  </script>\n",
              "</div>\n",
              "    </div>\n",
              "  </div>\n"
            ]
          },
          "metadata": {},
          "execution_count": 3
        }
      ],
      "source": [
        "\n",
        "path = \"/content/drive/MyDrive/Colab Notebooks/EALC/Semana 9/\"\n",
        "\n",
        "imbd_file = path + \"IMDB_Dataset.csv\"\n",
        "\n",
        "df = pd.read_csv(imbd_file)\n",
        "df.head()\n"
      ]
    },
    {
      "cell_type": "markdown",
      "metadata": {
        "id": "r4rXv3xX3yvG"
      },
      "source": [
        "### TAREAS A REALIZAR\n",
        "\n",
        "Muestra un ejemplo de cada clase.\n",
        "\n",
        "Haz un estudio del conjunto de datos. ¿qué palabras aparecen más veces?\n",
        "\n",
        "Indica porque es necesario normalizar el corpus y normalízalo.\n",
        "\n",
        "Crea una partición de los datos dejando el 80% para entrenamiento y el 20% restante para test usando la función `train_test_split` de sklearn.\n",
        "\n",
        "Elige dos modelos de aprendizaje automático y realiza los siguientes pasos: explicación breve de su funcionamiento, preprocesamiento, entrenamiento y evaluación.\n",
        "\n",
        "Indica cual de los 2 modelos funciona mejor y trata de explicar porqué.\n",
        "\n",
        "Para el mejor modelo, indica un ejemplo mal clasificado de cada clase y trata de justificar el error.\n"
      ]
    },
    {
      "cell_type": "code",
      "execution_count": null,
      "metadata": {
        "id": "6WLFEg9B6Uu9",
        "colab": {
          "base_uri": "https://localhost:8080/"
        },
        "outputId": "01b519d7-f1f6-41bb-f978-5e83a667d63f"
      },
      "outputs": [
        {
          "output_type": "stream",
          "name": "stdout",
          "text": [
            "Ejemplo negativo:                                                  review sentiment\n",
            "8463  Well, it is hard to add comment after reading ...  negative\n",
            "\n",
            "Ejemplo positivo:                                                  review sentiment\n",
            "4355  While a bit preachy on the topic of progress a...  positive\n"
          ]
        }
      ],
      "source": [
        "# Mostrar un ejemplo de cada clase\n",
        "ejemplo_negativo = df[df['sentiment'] == 'negative'].sample(1)\n",
        "print(\"Ejemplo negativo:\", ejemplo_negativo)\n",
        "print()\n",
        "ejemplo_positivo = df[df['sentiment'] == 'positive'].sample(1)\n",
        "print(\"Ejemplo positivo:\", ejemplo_positivo)"
      ]
    },
    {
      "cell_type": "code",
      "source": [
        "# ¿Qué palabras aparecen más?\n",
        "\n",
        "# Vamos primero a estudiar las palabras con mayor frecuencia teniendo en cuenta la totalidad del dataset, sin quitar stopwords\n",
        "from sklearn.feature_extraction.text import CountVectorizer\n",
        "\n",
        "textos = df['review'].tolist()\n",
        "\n",
        "# Inicializar el CountVectorizer\n",
        "vectorizer = CountVectorizer()\n",
        "\n",
        "# Transformamos los textos en una matriz de recuentos de palabras\n",
        "matriz_X = vectorizer.fit_transform(textos)\n",
        "\n",
        "# Obtenemos las palabras del vectorizador\n",
        "palabras = vectorizer.get_feature_names_out()\n",
        "\n",
        "# Sumamos el recuento de cada palabra en todo el conjunto de datos\n",
        "recuento_palabras = matriz_X.sum(axis=0)\n",
        "\n",
        "# Creamos un DataFrame para visualizar los resultados\n",
        "df_recuento_palabras = pd.DataFrame(recuento_palabras, columns=palabras)\n",
        "\n",
        "# Mostramos las palabras más comunes\n",
        "palabras_mas_comunes = df_recuento_palabras.T.sort_values(by=0, ascending=False)\n",
        "print(\"Palabras más comunes:\")\n",
        "print(palabras_mas_comunes.head(10))"
      ],
      "metadata": {
        "id": "4AX3icj-EMgn",
        "colab": {
          "base_uri": "https://localhost:8080/"
        },
        "outputId": "8a8ebfac-648b-4c95-bf9e-f19442056ad9"
      },
      "execution_count": 4,
      "outputs": [
        {
          "output_type": "stream",
          "name": "stdout",
          "text": [
            "Palabras más comunes:\n",
            "           0\n",
            "the   667993\n",
            "and   324441\n",
            "of    289410\n",
            "to    268124\n",
            "is    211082\n",
            "br    201951\n",
            "it    190857\n",
            "in    186781\n",
            "this  151002\n",
            "that  143879\n"
          ]
        }
      ]
    },
    {
      "cell_type": "code",
      "source": [
        "# Normalizar el corpus es necesario, por ejemplo, para eliminar las palabras vacías que no aportan contenido\n",
        "# semántico a nuestros textos, que no caracterizan los textos y que \"contaminan\" los resultados de las frecuencias de palabras,\n",
        "# ya que son las palabras más usadas.\n",
        "\n",
        "import re\n",
        "import nltk\n",
        "from nltk.corpus import stopwords\n",
        "\n",
        "wpt = nltk.WordPunctTokenizer()\n",
        "nltk.download('stopwords') # añadido\n",
        "sw = ['br']\n",
        "stop_words = set(nltk.corpus.stopwords.words('english')+ sw)\n",
        "\n",
        "def normalize_document(doc):\n",
        "    # lower case and remove special characters\\whitespaces\n",
        "    doc = re.sub(r'[^a-zA-Z\\s]', '', doc, re.I|re.A)\n",
        "    doc = doc.lower()\n",
        "    doc = doc.strip()\n",
        "    # tokenize document\n",
        "    tokens = wpt.tokenize(doc)\n",
        "    # filter stopwords out of document\n",
        "    filtered_tokens = [token for token in tokens if token not in stop_words]\n",
        "    # re-create document from filtered tokens\n",
        "    doc = ' '.join(filtered_tokens)\n",
        "    return doc\n"
      ],
      "metadata": {
        "colab": {
          "base_uri": "https://localhost:8080/"
        },
        "id": "51NGfqgyI3F0",
        "outputId": "ccc712ac-244a-4f5b-febe-8a02a4b5b27d"
      },
      "execution_count": 5,
      "outputs": [
        {
          "output_type": "stream",
          "name": "stderr",
          "text": [
            "[nltk_data] Downloading package stopwords to /root/nltk_data...\n",
            "[nltk_data]   Unzipping corpora/stopwords.zip.\n"
          ]
        }
      ]
    },
    {
      "cell_type": "code",
      "source": [
        "# Crear una nueva columna 'review_normalized' en el DataFrame\n",
        "df['review_normalized'] = df['review'].apply(normalize_document)\n",
        "\n",
        "# Verificar el DataFrame resultante\n",
        "df.head(10)"
      ],
      "metadata": {
        "colab": {
          "base_uri": "https://localhost:8080/",
          "height": 363
        },
        "id": "_Mmu1EoIKo9Z",
        "outputId": "10f97a8e-f07c-4ec1-b224-82e5f7c5e6cf"
      },
      "execution_count": 6,
      "outputs": [
        {
          "output_type": "execute_result",
          "data": {
            "text/plain": [
              "                                              review sentiment  \\\n",
              "0  One of the other reviewers has mentioned that ...  positive   \n",
              "1  A wonderful little production. <br /><br />The...  positive   \n",
              "2  I thought this was a wonderful way to spend ti...  positive   \n",
              "3  Basically there's a family where a little boy ...  negative   \n",
              "4  Petter Mattei's \"Love in the Time of Money\" is...  positive   \n",
              "5  Probably my all-time favorite movie, a story o...  positive   \n",
              "6  I sure would like to see a resurrection of a u...  positive   \n",
              "7  This show was an amazing, fresh & innovative i...  negative   \n",
              "8  Encouraged by the positive comments about this...  negative   \n",
              "9  If you like original gut wrenching laughter yo...  positive   \n",
              "\n",
              "                                   review_normalized  \n",
              "0  one reviewers mentioned watching oz episode yo...  \n",
              "1  wonderful little production filming technique ...  \n",
              "2  thought wonderful way spend time hot summer we...  \n",
              "3  basically theres family little boy jake thinks...  \n",
              "4  petter matteis love time money visually stunni...  \n",
              "5  probably alltime favorite movie story selfless...  \n",
              "6  sure would like see resurrection dated seahunt...  \n",
              "7  show amazing fresh innovative idea first aired...  \n",
              "8  encouraged positive comments film looking forw...  \n",
              "9  like original gut wrenching laughter like movi...  "
            ],
            "text/html": [
              "\n",
              "  <div id=\"df-7d66b88a-fc97-4eb2-8a52-6b2c57b7bc95\" class=\"colab-df-container\">\n",
              "    <div>\n",
              "<style scoped>\n",
              "    .dataframe tbody tr th:only-of-type {\n",
              "        vertical-align: middle;\n",
              "    }\n",
              "\n",
              "    .dataframe tbody tr th {\n",
              "        vertical-align: top;\n",
              "    }\n",
              "\n",
              "    .dataframe thead th {\n",
              "        text-align: right;\n",
              "    }\n",
              "</style>\n",
              "<table border=\"1\" class=\"dataframe\">\n",
              "  <thead>\n",
              "    <tr style=\"text-align: right;\">\n",
              "      <th></th>\n",
              "      <th>review</th>\n",
              "      <th>sentiment</th>\n",
              "      <th>review_normalized</th>\n",
              "    </tr>\n",
              "  </thead>\n",
              "  <tbody>\n",
              "    <tr>\n",
              "      <th>0</th>\n",
              "      <td>One of the other reviewers has mentioned that ...</td>\n",
              "      <td>positive</td>\n",
              "      <td>one reviewers mentioned watching oz episode yo...</td>\n",
              "    </tr>\n",
              "    <tr>\n",
              "      <th>1</th>\n",
              "      <td>A wonderful little production. &lt;br /&gt;&lt;br /&gt;The...</td>\n",
              "      <td>positive</td>\n",
              "      <td>wonderful little production filming technique ...</td>\n",
              "    </tr>\n",
              "    <tr>\n",
              "      <th>2</th>\n",
              "      <td>I thought this was a wonderful way to spend ti...</td>\n",
              "      <td>positive</td>\n",
              "      <td>thought wonderful way spend time hot summer we...</td>\n",
              "    </tr>\n",
              "    <tr>\n",
              "      <th>3</th>\n",
              "      <td>Basically there's a family where a little boy ...</td>\n",
              "      <td>negative</td>\n",
              "      <td>basically theres family little boy jake thinks...</td>\n",
              "    </tr>\n",
              "    <tr>\n",
              "      <th>4</th>\n",
              "      <td>Petter Mattei's \"Love in the Time of Money\" is...</td>\n",
              "      <td>positive</td>\n",
              "      <td>petter matteis love time money visually stunni...</td>\n",
              "    </tr>\n",
              "    <tr>\n",
              "      <th>5</th>\n",
              "      <td>Probably my all-time favorite movie, a story o...</td>\n",
              "      <td>positive</td>\n",
              "      <td>probably alltime favorite movie story selfless...</td>\n",
              "    </tr>\n",
              "    <tr>\n",
              "      <th>6</th>\n",
              "      <td>I sure would like to see a resurrection of a u...</td>\n",
              "      <td>positive</td>\n",
              "      <td>sure would like see resurrection dated seahunt...</td>\n",
              "    </tr>\n",
              "    <tr>\n",
              "      <th>7</th>\n",
              "      <td>This show was an amazing, fresh &amp; innovative i...</td>\n",
              "      <td>negative</td>\n",
              "      <td>show amazing fresh innovative idea first aired...</td>\n",
              "    </tr>\n",
              "    <tr>\n",
              "      <th>8</th>\n",
              "      <td>Encouraged by the positive comments about this...</td>\n",
              "      <td>negative</td>\n",
              "      <td>encouraged positive comments film looking forw...</td>\n",
              "    </tr>\n",
              "    <tr>\n",
              "      <th>9</th>\n",
              "      <td>If you like original gut wrenching laughter yo...</td>\n",
              "      <td>positive</td>\n",
              "      <td>like original gut wrenching laughter like movi...</td>\n",
              "    </tr>\n",
              "  </tbody>\n",
              "</table>\n",
              "</div>\n",
              "    <div class=\"colab-df-buttons\">\n",
              "\n",
              "  <div class=\"colab-df-container\">\n",
              "    <button class=\"colab-df-convert\" onclick=\"convertToInteractive('df-7d66b88a-fc97-4eb2-8a52-6b2c57b7bc95')\"\n",
              "            title=\"Convert this dataframe to an interactive table.\"\n",
              "            style=\"display:none;\">\n",
              "\n",
              "  <svg xmlns=\"http://www.w3.org/2000/svg\" height=\"24px\" viewBox=\"0 -960 960 960\">\n",
              "    <path d=\"M120-120v-720h720v720H120Zm60-500h600v-160H180v160Zm220 220h160v-160H400v160Zm0 220h160v-160H400v160ZM180-400h160v-160H180v160Zm440 0h160v-160H620v160ZM180-180h160v-160H180v160Zm440 0h160v-160H620v160Z\"/>\n",
              "  </svg>\n",
              "    </button>\n",
              "\n",
              "  <style>\n",
              "    .colab-df-container {\n",
              "      display:flex;\n",
              "      gap: 12px;\n",
              "    }\n",
              "\n",
              "    .colab-df-convert {\n",
              "      background-color: #E8F0FE;\n",
              "      border: none;\n",
              "      border-radius: 50%;\n",
              "      cursor: pointer;\n",
              "      display: none;\n",
              "      fill: #1967D2;\n",
              "      height: 32px;\n",
              "      padding: 0 0 0 0;\n",
              "      width: 32px;\n",
              "    }\n",
              "\n",
              "    .colab-df-convert:hover {\n",
              "      background-color: #E2EBFA;\n",
              "      box-shadow: 0px 1px 2px rgba(60, 64, 67, 0.3), 0px 1px 3px 1px rgba(60, 64, 67, 0.15);\n",
              "      fill: #174EA6;\n",
              "    }\n",
              "\n",
              "    .colab-df-buttons div {\n",
              "      margin-bottom: 4px;\n",
              "    }\n",
              "\n",
              "    [theme=dark] .colab-df-convert {\n",
              "      background-color: #3B4455;\n",
              "      fill: #D2E3FC;\n",
              "    }\n",
              "\n",
              "    [theme=dark] .colab-df-convert:hover {\n",
              "      background-color: #434B5C;\n",
              "      box-shadow: 0px 1px 3px 1px rgba(0, 0, 0, 0.15);\n",
              "      filter: drop-shadow(0px 1px 2px rgba(0, 0, 0, 0.3));\n",
              "      fill: #FFFFFF;\n",
              "    }\n",
              "  </style>\n",
              "\n",
              "    <script>\n",
              "      const buttonEl =\n",
              "        document.querySelector('#df-7d66b88a-fc97-4eb2-8a52-6b2c57b7bc95 button.colab-df-convert');\n",
              "      buttonEl.style.display =\n",
              "        google.colab.kernel.accessAllowed ? 'block' : 'none';\n",
              "\n",
              "      async function convertToInteractive(key) {\n",
              "        const element = document.querySelector('#df-7d66b88a-fc97-4eb2-8a52-6b2c57b7bc95');\n",
              "        const dataTable =\n",
              "          await google.colab.kernel.invokeFunction('convertToInteractive',\n",
              "                                                    [key], {});\n",
              "        if (!dataTable) return;\n",
              "\n",
              "        const docLinkHtml = 'Like what you see? Visit the ' +\n",
              "          '<a target=\"_blank\" href=https://colab.research.google.com/notebooks/data_table.ipynb>data table notebook</a>'\n",
              "          + ' to learn more about interactive tables.';\n",
              "        element.innerHTML = '';\n",
              "        dataTable['output_type'] = 'display_data';\n",
              "        await google.colab.output.renderOutput(dataTable, element);\n",
              "        const docLink = document.createElement('div');\n",
              "        docLink.innerHTML = docLinkHtml;\n",
              "        element.appendChild(docLink);\n",
              "      }\n",
              "    </script>\n",
              "  </div>\n",
              "\n",
              "\n",
              "<div id=\"df-01298855-d146-4feb-b97b-658616c8ad5c\">\n",
              "  <button class=\"colab-df-quickchart\" onclick=\"quickchart('df-01298855-d146-4feb-b97b-658616c8ad5c')\"\n",
              "            title=\"Suggest charts\"\n",
              "            style=\"display:none;\">\n",
              "\n",
              "<svg xmlns=\"http://www.w3.org/2000/svg\" height=\"24px\"viewBox=\"0 0 24 24\"\n",
              "     width=\"24px\">\n",
              "    <g>\n",
              "        <path d=\"M19 3H5c-1.1 0-2 .9-2 2v14c0 1.1.9 2 2 2h14c1.1 0 2-.9 2-2V5c0-1.1-.9-2-2-2zM9 17H7v-7h2v7zm4 0h-2V7h2v10zm4 0h-2v-4h2v4z\"/>\n",
              "    </g>\n",
              "</svg>\n",
              "  </button>\n",
              "\n",
              "<style>\n",
              "  .colab-df-quickchart {\n",
              "      --bg-color: #E8F0FE;\n",
              "      --fill-color: #1967D2;\n",
              "      --hover-bg-color: #E2EBFA;\n",
              "      --hover-fill-color: #174EA6;\n",
              "      --disabled-fill-color: #AAA;\n",
              "      --disabled-bg-color: #DDD;\n",
              "  }\n",
              "\n",
              "  [theme=dark] .colab-df-quickchart {\n",
              "      --bg-color: #3B4455;\n",
              "      --fill-color: #D2E3FC;\n",
              "      --hover-bg-color: #434B5C;\n",
              "      --hover-fill-color: #FFFFFF;\n",
              "      --disabled-bg-color: #3B4455;\n",
              "      --disabled-fill-color: #666;\n",
              "  }\n",
              "\n",
              "  .colab-df-quickchart {\n",
              "    background-color: var(--bg-color);\n",
              "    border: none;\n",
              "    border-radius: 50%;\n",
              "    cursor: pointer;\n",
              "    display: none;\n",
              "    fill: var(--fill-color);\n",
              "    height: 32px;\n",
              "    padding: 0;\n",
              "    width: 32px;\n",
              "  }\n",
              "\n",
              "  .colab-df-quickchart:hover {\n",
              "    background-color: var(--hover-bg-color);\n",
              "    box-shadow: 0 1px 2px rgba(60, 64, 67, 0.3), 0 1px 3px 1px rgba(60, 64, 67, 0.15);\n",
              "    fill: var(--button-hover-fill-color);\n",
              "  }\n",
              "\n",
              "  .colab-df-quickchart-complete:disabled,\n",
              "  .colab-df-quickchart-complete:disabled:hover {\n",
              "    background-color: var(--disabled-bg-color);\n",
              "    fill: var(--disabled-fill-color);\n",
              "    box-shadow: none;\n",
              "  }\n",
              "\n",
              "  .colab-df-spinner {\n",
              "    border: 2px solid var(--fill-color);\n",
              "    border-color: transparent;\n",
              "    border-bottom-color: var(--fill-color);\n",
              "    animation:\n",
              "      spin 1s steps(1) infinite;\n",
              "  }\n",
              "\n",
              "  @keyframes spin {\n",
              "    0% {\n",
              "      border-color: transparent;\n",
              "      border-bottom-color: var(--fill-color);\n",
              "      border-left-color: var(--fill-color);\n",
              "    }\n",
              "    20% {\n",
              "      border-color: transparent;\n",
              "      border-left-color: var(--fill-color);\n",
              "      border-top-color: var(--fill-color);\n",
              "    }\n",
              "    30% {\n",
              "      border-color: transparent;\n",
              "      border-left-color: var(--fill-color);\n",
              "      border-top-color: var(--fill-color);\n",
              "      border-right-color: var(--fill-color);\n",
              "    }\n",
              "    40% {\n",
              "      border-color: transparent;\n",
              "      border-right-color: var(--fill-color);\n",
              "      border-top-color: var(--fill-color);\n",
              "    }\n",
              "    60% {\n",
              "      border-color: transparent;\n",
              "      border-right-color: var(--fill-color);\n",
              "    }\n",
              "    80% {\n",
              "      border-color: transparent;\n",
              "      border-right-color: var(--fill-color);\n",
              "      border-bottom-color: var(--fill-color);\n",
              "    }\n",
              "    90% {\n",
              "      border-color: transparent;\n",
              "      border-bottom-color: var(--fill-color);\n",
              "    }\n",
              "  }\n",
              "</style>\n",
              "\n",
              "  <script>\n",
              "    async function quickchart(key) {\n",
              "      const quickchartButtonEl =\n",
              "        document.querySelector('#' + key + ' button');\n",
              "      quickchartButtonEl.disabled = true;  // To prevent multiple clicks.\n",
              "      quickchartButtonEl.classList.add('colab-df-spinner');\n",
              "      try {\n",
              "        const charts = await google.colab.kernel.invokeFunction(\n",
              "            'suggestCharts', [key], {});\n",
              "      } catch (error) {\n",
              "        console.error('Error during call to suggestCharts:', error);\n",
              "      }\n",
              "      quickchartButtonEl.classList.remove('colab-df-spinner');\n",
              "      quickchartButtonEl.classList.add('colab-df-quickchart-complete');\n",
              "    }\n",
              "    (() => {\n",
              "      let quickchartButtonEl =\n",
              "        document.querySelector('#df-01298855-d146-4feb-b97b-658616c8ad5c button');\n",
              "      quickchartButtonEl.style.display =\n",
              "        google.colab.kernel.accessAllowed ? 'block' : 'none';\n",
              "    })();\n",
              "  </script>\n",
              "</div>\n",
              "    </div>\n",
              "  </div>\n"
            ]
          },
          "metadata": {},
          "execution_count": 6
        }
      ]
    },
    {
      "cell_type": "code",
      "source": [
        "# vuelvo a hacer la lista de palabras más frecuentes sobre el texto normalizado\n",
        "# ahora no he usado CountVectorizer sino un tokenizador\n",
        "\n",
        "import pandas as pd\n",
        "from nltk import FreqDist\n",
        "from nltk.tokenize import word_tokenize\n",
        "import nltk\n",
        "nltk.download('punkt')\n",
        "\n",
        "# Tokenizar las reseñas\n",
        "tokenized_reviews = [word_tokenize(review.lower()) for review in df['review_normalized']]\n",
        "\n",
        "# Unir listas de palabras en una sola lista\n",
        "all_words = [word for sublist in tokenized_reviews for word in sublist]\n",
        "\n",
        "# Calcular la frecuencia de cada palabra\n",
        "fdist = FreqDist(all_words)\n",
        "\n",
        "# Crear un DataFrame con las palabras y sus frecuencias\n",
        "df_frecuencia = pd.DataFrame({'Palabra': list(fdist.keys()), 'Frecuencia': list(fdist.values())})\n",
        "\n",
        "# Ordenar el DataFrame por frecuencia en orden descendente\n",
        "df_frecuencia = df_frecuencia.sort_values(by='Frecuencia', ascending=False)\n",
        "\n",
        "# Mostrar las palabras más frecuentes\n",
        "print(\"Palabras más frecuentes:\")\n",
        "print(df_frecuencia.head(10))"
      ],
      "metadata": {
        "colab": {
          "base_uri": "https://localhost:8080/"
        },
        "id": "CDDQ9InuK9Lr",
        "outputId": "139a3910-3753-42fa-bd2c-aa206a434b1c"
      },
      "execution_count": 10,
      "outputs": [
        {
          "output_type": "stream",
          "name": "stderr",
          "text": [
            "[nltk_data] Downloading package punkt to /root/nltk_data...\n",
            "[nltk_data]   Package punkt is already up-to-date!\n"
          ]
        },
        {
          "output_type": "stream",
          "name": "stdout",
          "text": [
            "Palabras más frecuentes:\n",
            "    Palabra  Frecuencia\n",
            "292   movie       83536\n",
            "304    film       74478\n",
            "0       one       51034\n",
            "312    like       39001\n",
            "393    good       28575\n",
            "230    even       24578\n",
            "79    would       24028\n",
            "215    time       23276\n",
            "184  really       22951\n",
            "167     see       22536\n"
          ]
        }
      ]
    },
    {
      "cell_type": "markdown",
      "source": [
        "De esta manera, una vez normalizado el corpus, obtenemos una lista de las palabras más frecuentes en la que todas las palabras que la conforman son palabras léxicas, ya no aparecen palabras vacías, ni signos de puntuación. Las palabras más frecuentes son:\n",
        "\n",
        "\n",
        "1.   movie\n",
        "2.   film\n",
        "3.   one\n",
        "4.   like\n",
        "5.   good\n",
        "6.   even\n",
        "7.   would\n",
        "8.   time\n",
        "9.   really\n",
        "10.  see\n",
        "\n"
      ],
      "metadata": {
        "id": "HGNvx3pLxx6L"
      }
    },
    {
      "cell_type": "code",
      "source": [
        "# dividir el corpus en un 80% para el entrenamiento y un 20% para la validación\n",
        "\n",
        "import pandas as pd\n",
        "from sklearn.model_selection import train_test_split\n",
        "from sklearn.model_selection import train_test_split\n",
        "\n",
        "X = df['review_normalized']\n",
        "y = df['sentiment']\n",
        "\n",
        "# Dividimos el conjunto de datos en entrenamiento (80 %) y prueba (20 %)\n",
        "X_train, X_test, y_train, y_test = train_test_split(X, y, test_size=0.2, random_state=1234)\n",
        "\n",
        "# De esta manera, a lo que en el ejemplo le llaman .data se convierte en X y lo que es .target se convierte en Y\n",
        "\n",
        "# Imprimir la cantidad de textos en entrenamiento y prueba después de la división\n",
        "print(\"Training texts:\", len(X_train))\n",
        "print(\"Test texts:\", len(X_test))"
      ],
      "metadata": {
        "colab": {
          "base_uri": "https://localhost:8080/"
        },
        "id": "Lh1o3eXfybm7",
        "outputId": "9428d14c-6c0f-4ed5-ec43-b2bdc7aa923b"
      },
      "execution_count": 11,
      "outputs": [
        {
          "output_type": "stream",
          "name": "stdout",
          "text": [
            "Training texts: 40000\n",
            "Test texts: 10000\n"
          ]
        }
      ]
    },
    {
      "cell_type": "markdown",
      "source": [
        "### Preprocesamiento"
      ],
      "metadata": {
        "id": "HP67kkx7OwMX"
      }
    },
    {
      "cell_type": "code",
      "source": [
        "# Elige dos modelos de aprendizaje automático y realiza los siguientes pasos: explicación breve de su funcionamiento, preprocesamiento, entrenamiento y evaluación.\n",
        "\n",
        "# Voy a elegir los modelos Support Vector Machines y Logistic Regression\n",
        "\n",
        "# Support Vector Machines (svm)\n",
        "# es un modelo que se usa tanto para regresión como para clasifiación\n",
        "# se basa en encontrar un hiperplano en el espacio de características que\n",
        "# mejor separe las clases de datos, maximizando el margen entre las clases.\n",
        "\n",
        "# Modelo de regresión logística\n",
        "# se usa para problemas de clasificación\n",
        "# usa la función logística para transformar la salida lineal a valores entre 0 y 1.\n",
        "# la salida del modelo es una probabilidad de pertenencia a una clase\n",
        "# toma una decisión de clasificación basada en esa probabilidad"
      ],
      "metadata": {
        "id": "EZc1qLrH_a1U"
      },
      "execution_count": null,
      "outputs": []
    },
    {
      "cell_type": "code",
      "source": [
        "from sklearn.feature_extraction.text import CountVectorizer\n",
        "from sklearn.feature_extraction.text import TfidfTransformer\n",
        "from sklearn.pipeline import Pipeline\n",
        "\n",
        "preprocessing = Pipeline([\n",
        "    ('vect', CountVectorizer()),\n",
        "    ('tfidf', TfidfTransformer())\n",
        "])\n",
        "\n",
        "train_preprocessed = preprocessing.fit_transform(X_train)\n",
        "\n",
        "test_preprocessed = preprocessing.transform(X_test)"
      ],
      "metadata": {
        "id": "N4TsITbrNgdQ"
      },
      "execution_count": 12,
      "outputs": []
    },
    {
      "cell_type": "markdown",
      "source": [
        "### Entrenamiento"
      ],
      "metadata": {
        "id": "6EZtwqT6Or55"
      }
    },
    {
      "cell_type": "code",
      "source": [
        "from sklearn.linear_model import LogisticRegression\n",
        "from sklearn.svm import LinearSVC\n",
        "\n",
        "svm_classifier = LinearSVC()\n",
        "lr_classifier = LogisticRegression(multi_class=\"ovr\")\n",
        "\n",
        "print(\"Training SVM classifier...\")\n",
        "svm_classifier.fit(train_preprocessed, y_train)\n",
        "\n",
        "print(\"Training Logistic Regression classifier...\")\n",
        "lr_classifier.fit(train_preprocessed, y_train)"
      ],
      "metadata": {
        "colab": {
          "base_uri": "https://localhost:8080/",
          "height": 110
        },
        "id": "nnz9doe6OH47",
        "outputId": "c34d429f-3783-47d2-ce12-1fd57afb35d6"
      },
      "execution_count": 13,
      "outputs": [
        {
          "output_type": "stream",
          "name": "stdout",
          "text": [
            "Training SVM classifier...\n",
            "Training Logistic Regression classifier...\n"
          ]
        },
        {
          "output_type": "execute_result",
          "data": {
            "text/plain": [
              "LogisticRegression(multi_class='ovr')"
            ],
            "text/html": [
              "<style>#sk-container-id-1 {color: black;background-color: white;}#sk-container-id-1 pre{padding: 0;}#sk-container-id-1 div.sk-toggleable {background-color: white;}#sk-container-id-1 label.sk-toggleable__label {cursor: pointer;display: block;width: 100%;margin-bottom: 0;padding: 0.3em;box-sizing: border-box;text-align: center;}#sk-container-id-1 label.sk-toggleable__label-arrow:before {content: \"▸\";float: left;margin-right: 0.25em;color: #696969;}#sk-container-id-1 label.sk-toggleable__label-arrow:hover:before {color: black;}#sk-container-id-1 div.sk-estimator:hover label.sk-toggleable__label-arrow:before {color: black;}#sk-container-id-1 div.sk-toggleable__content {max-height: 0;max-width: 0;overflow: hidden;text-align: left;background-color: #f0f8ff;}#sk-container-id-1 div.sk-toggleable__content pre {margin: 0.2em;color: black;border-radius: 0.25em;background-color: #f0f8ff;}#sk-container-id-1 input.sk-toggleable__control:checked~div.sk-toggleable__content {max-height: 200px;max-width: 100%;overflow: auto;}#sk-container-id-1 input.sk-toggleable__control:checked~label.sk-toggleable__label-arrow:before {content: \"▾\";}#sk-container-id-1 div.sk-estimator input.sk-toggleable__control:checked~label.sk-toggleable__label {background-color: #d4ebff;}#sk-container-id-1 div.sk-label input.sk-toggleable__control:checked~label.sk-toggleable__label {background-color: #d4ebff;}#sk-container-id-1 input.sk-hidden--visually {border: 0;clip: rect(1px 1px 1px 1px);clip: rect(1px, 1px, 1px, 1px);height: 1px;margin: -1px;overflow: hidden;padding: 0;position: absolute;width: 1px;}#sk-container-id-1 div.sk-estimator {font-family: monospace;background-color: #f0f8ff;border: 1px dotted black;border-radius: 0.25em;box-sizing: border-box;margin-bottom: 0.5em;}#sk-container-id-1 div.sk-estimator:hover {background-color: #d4ebff;}#sk-container-id-1 div.sk-parallel-item::after {content: \"\";width: 100%;border-bottom: 1px solid gray;flex-grow: 1;}#sk-container-id-1 div.sk-label:hover label.sk-toggleable__label {background-color: #d4ebff;}#sk-container-id-1 div.sk-serial::before {content: \"\";position: absolute;border-left: 1px solid gray;box-sizing: border-box;top: 0;bottom: 0;left: 50%;z-index: 0;}#sk-container-id-1 div.sk-serial {display: flex;flex-direction: column;align-items: center;background-color: white;padding-right: 0.2em;padding-left: 0.2em;position: relative;}#sk-container-id-1 div.sk-item {position: relative;z-index: 1;}#sk-container-id-1 div.sk-parallel {display: flex;align-items: stretch;justify-content: center;background-color: white;position: relative;}#sk-container-id-1 div.sk-item::before, #sk-container-id-1 div.sk-parallel-item::before {content: \"\";position: absolute;border-left: 1px solid gray;box-sizing: border-box;top: 0;bottom: 0;left: 50%;z-index: -1;}#sk-container-id-1 div.sk-parallel-item {display: flex;flex-direction: column;z-index: 1;position: relative;background-color: white;}#sk-container-id-1 div.sk-parallel-item:first-child::after {align-self: flex-end;width: 50%;}#sk-container-id-1 div.sk-parallel-item:last-child::after {align-self: flex-start;width: 50%;}#sk-container-id-1 div.sk-parallel-item:only-child::after {width: 0;}#sk-container-id-1 div.sk-dashed-wrapped {border: 1px dashed gray;margin: 0 0.4em 0.5em 0.4em;box-sizing: border-box;padding-bottom: 0.4em;background-color: white;}#sk-container-id-1 div.sk-label label {font-family: monospace;font-weight: bold;display: inline-block;line-height: 1.2em;}#sk-container-id-1 div.sk-label-container {text-align: center;}#sk-container-id-1 div.sk-container {/* jupyter's `normalize.less` sets `[hidden] { display: none; }` but bootstrap.min.css set `[hidden] { display: none !important; }` so we also need the `!important` here to be able to override the default hidden behavior on the sphinx rendered scikit-learn.org. See: https://github.com/scikit-learn/scikit-learn/issues/21755 */display: inline-block !important;position: relative;}#sk-container-id-1 div.sk-text-repr-fallback {display: none;}</style><div id=\"sk-container-id-1\" class=\"sk-top-container\"><div class=\"sk-text-repr-fallback\"><pre>LogisticRegression(multi_class=&#x27;ovr&#x27;)</pre><b>In a Jupyter environment, please rerun this cell to show the HTML representation or trust the notebook. <br />On GitHub, the HTML representation is unable to render, please try loading this page with nbviewer.org.</b></div><div class=\"sk-container\" hidden><div class=\"sk-item\"><div class=\"sk-estimator sk-toggleable\"><input class=\"sk-toggleable__control sk-hidden--visually\" id=\"sk-estimator-id-1\" type=\"checkbox\" checked><label for=\"sk-estimator-id-1\" class=\"sk-toggleable__label sk-toggleable__label-arrow\">LogisticRegression</label><div class=\"sk-toggleable__content\"><pre>LogisticRegression(multi_class=&#x27;ovr&#x27;)</pre></div></div></div></div></div>"
            ]
          },
          "metadata": {},
          "execution_count": 13
        }
      ]
    },
    {
      "cell_type": "markdown",
      "source": [
        "### Evaluación"
      ],
      "metadata": {
        "id": "T_DO2E2yO6cI"
      }
    },
    {
      "cell_type": "code",
      "source": [
        "svm_predictions = svm_classifier.predict(test_preprocessed)\n",
        "lr_predictions = lr_classifier.predict(test_preprocessed)"
      ],
      "metadata": {
        "id": "aG00tWCoO9Ow"
      },
      "execution_count": 14,
      "outputs": []
    },
    {
      "cell_type": "code",
      "source": [
        "import numpy as np\n",
        "\n",
        "print(\"SVM Accuracy:\", np.mean(svm_predictions == y_test))\n",
        "print(\"LR Accuracy:\", np.mean(lr_predictions == y_test))"
      ],
      "metadata": {
        "colab": {
          "base_uri": "https://localhost:8080/"
        },
        "id": "M3Ru90SgPBAM",
        "outputId": "af8c6987-ffcc-462a-a0eb-ca7fb01fae61"
      },
      "execution_count": 15,
      "outputs": [
        {
          "output_type": "stream",
          "name": "stdout",
          "text": [
            "SVM Accuracy: 0.8931\n",
            "LR Accuracy: 0.8904\n"
          ]
        }
      ]
    },
    {
      "cell_type": "markdown",
      "source": [
        "En mi opinión, con estos resultados podemos decir que el funcionamiento de ambos modelos es muy parecido, con un porcentaje de acierto bastante elevado y prácticamente igual: 0,89. Igualmente, el que parece que tiene más precisión es el modelo SVM, por eso lo he elegido como el modelo para analizar sus errores."
      ],
      "metadata": {
        "id": "jnqfG2H_S_c_"
      }
    },
    {
      "cell_type": "code",
      "source": [
        "from sklearn.metrics import classification_report, confusion_matrix\n",
        "print(classification_report(y_test, svm_predictions))"
      ],
      "metadata": {
        "colab": {
          "base_uri": "https://localhost:8080/"
        },
        "id": "a3O3ZGpzR1U5",
        "outputId": "c1c5f02f-58a8-463d-800a-7a45d44602d4"
      },
      "execution_count": 17,
      "outputs": [
        {
          "output_type": "stream",
          "name": "stdout",
          "text": [
            "              precision    recall  f1-score   support\n",
            "\n",
            "    negative       0.90      0.88      0.89      4988\n",
            "    positive       0.89      0.90      0.89      5012\n",
            "\n",
            "    accuracy                           0.89     10000\n",
            "   macro avg       0.89      0.89      0.89     10000\n",
            "weighted avg       0.89      0.89      0.89     10000\n",
            "\n"
          ]
        }
      ]
    },
    {
      "cell_type": "code",
      "source": [
        "etiquetas_incorrectas = X_test[svm_predictions != y_test]\n",
        "etiquetas_correctas = y_test[svm_predictions != y_test]\n",
        "predicciones = svm_predictions[svm_predictions != y_test]"
      ],
      "metadata": {
        "id": "iLIFvGobJa_o"
      },
      "execution_count": 18,
      "outputs": []
    },
    {
      "cell_type": "code",
      "source": [
        "for i in range(5):\n",
        "    print(f'Ejemplo #{i+1}:')\n",
        "    print(f'Texto: {etiquetas_incorrectas.iloc[i]}')\n",
        "    print(f'Etiqueta real: {etiquetas_correctas.iloc[i]} - Predicción: {predicciones[i]}')\n",
        "    print('\\n')"
      ],
      "metadata": {
        "colab": {
          "base_uri": "https://localhost:8080/"
        },
        "id": "x0_5QHzhKKRG",
        "outputId": "fedfd57f-e42b-4777-a288-c5061fa192f1"
      },
      "execution_count": 19,
      "outputs": [
        {
          "output_type": "stream",
          "name": "stdout",
          "text": [
            "Ejemplo #1:\n",
            "Texto: grandmother took sister see movie came theaters back happily bought tickets popcorn soda walked right theater sat watch movie audience didnt applauded strongly remember heard people say didnt like didnt like thought rather stupid worth seeing eddie murphy hysterical apart whole movie bad rarely laughed parts also remembered people theater almost hardly even laughed really thought bad making animals talk talking animals exist cartoons live action movies totally mutt said apart eddie murphys hysterical twist brings movie worth watching rather stupidbr seen eddie murphy several movies thought funny said funny part movie also seen eddie murphy really great movie adventures pluto nash movie movie would really recommend see apart eddie murphy probably going like especially lot talking animals ill give movie rating stars possible stars\n",
            "Etiqueta real: negative - Predicción: positive\n",
            "\n",
            "\n",
            "Ejemplo #2:\n",
            "Texto: long keep mind production movie copyright ploy intended serious release actually surprising absolutely horrible even liked theme musicbr ever flick cried treatment joel mike mstk bots watch bunch smartass wisecrackers youre good time brew butter large pretzels enjoybr course obtaining copy requires buying bootleg downloading shareware youre imdb youre likely savvy enough good luckbr look favorite partwhere dr doom informs ff hours comply wishesand actually gestures number finger soits like evil sesame streethoo boybr course mrs storm declaring look youthe fanstastic four heartwarmingyoull laugh youll crybr love schlocky scifi ones fantastic\n",
            "Etiqueta real: negative - Predicción: positive\n",
            "\n",
            "\n",
            "Ejemplo #3:\n",
            "Texto: nothing new tired seriocomedy wastes talents danny glover whoopi goldberg considering produced stars spike lee pretty tame tired stuff come whoop never changes hair glasses many years film covers blah\n",
            "Etiqueta real: positive - Predicción: negative\n",
            "\n",
            "\n",
            "Ejemplo #4:\n",
            "Texto: terror jungle real find saw youre one lucky ones hilariousbr story airplane crashing middle south american jungle crash scene seen believed everyone dies crash theyre subsequently eaten alive crocodiles young blonde boy survives nearby tribes brings kid village males venerate golden hair kid end theres lot wrestling natives man search survivors downed airplane kid sits throne blond hair surrounded golden halo cries nonstop hootbr obscure contains questionable subtexts must youre obscure itssobaditsgood movies\n",
            "Etiqueta real: negative - Predicción: positive\n",
            "\n",
            "\n",
            "Ejemplo #5:\n",
            "Texto: return lost world filmed backtoback version lost worldbr sequel five people lead challenger return plateau group started drilling oil threatening destroy land gomez something manage defeat drillers plateau saved much delight nativesbr like lost world dinosaurs see made rubber include trex ankylosaurusbr john ryhsdavies david warner reprise roles challenger summerlee three actors also backbr despite reading several bad reviews cheap looking rubber dinosaurs enjoyed return lost worldbr rating stars\n",
            "Etiqueta real: positive - Predicción: negative\n",
            "\n",
            "\n"
          ]
        }
      ]
    },
    {
      "cell_type": "markdown",
      "source": [
        "\n",
        "*   En el primer ejemplo, la predicción fue positiva, pero la etiqueta correcta era la negativa. El problema puede ser que parece que el modelo ha tenido en cuenta palabras como \"happily\" o \"applauded\" para etiquetarla como positiva. Puede que el modelo no haya interpretado bien las negaciones como por ejemplo \"didnt applauded strongly\", \"remember heard people say didnt like \" o \"hardly even laughed\". A lo mejor habría que mejorar los parámetros, asegurarse que los textos estén correctamente etiquetados, o darle un corpus de entrenamiento más amplio para que mejore sus predicciones.\n",
        "*   El ejemplo 5 está etiquetado como positivo, pero el modelo lo ha etiquetado como negativo. El fallo en esta predicción puede ser que la persona que hizo la review da la razón a los críticos que critican la película. La clave se encuentra al final cuando dice: \"despite reading several bad reviews cheap looking rubber dinosaurs enjoyed return lost worldbr rating stars\". Hay que tener en cuenta que hemos eliminado las palabras vacías, por lo que a veces resulta complicado entender bien las frases. Sin embargo, la clave es el \"despite bad reviews\" y el \"enoyed\". Una persona puede sacar la conclusión de que, aunque la película tenga sus fallos, le ha gustado. Pero supongo que para el modelo pesan más todas las palabras negativas que ha escrito en la review antes de dar su opinión sobre la película.\n",
        "*   El ejemplo 3 me parece curioso porque creo que el fallo podría estar en la etiqueta original. El modelo la ha etiquetado como negativa, pero estaba etiquetado originalmente como positiva. Tras leerla y fijarme en las palabras, me parece que sería una review negativa, basándome en las expresiones: \"nothing new\", \"pretty tame tired stuff\" o \"never changes hair\". Por tanto, puede que en este caso nuestro modelo haya funcionado correctamente y sea el etiquetado original el que se esté equivocando.\n",
        "\n",
        "\n",
        "\n"
      ],
      "metadata": {
        "id": "TSC8f2EsUP71"
      }
    }
  ],
  "metadata": {
    "colab": {
      "provenance": []
    },
    "kernelspec": {
      "display_name": "Python 3",
      "language": "python",
      "name": "python3"
    },
    "language_info": {
      "codemirror_mode": {
        "name": "ipython",
        "version": 3
      },
      "file_extension": ".py",
      "mimetype": "text/x-python",
      "name": "python",
      "nbconvert_exporter": "python",
      "pygments_lexer": "ipython3",
      "version": "3.8.12"
    }
  },
  "nbformat": 4,
  "nbformat_minor": 0
}
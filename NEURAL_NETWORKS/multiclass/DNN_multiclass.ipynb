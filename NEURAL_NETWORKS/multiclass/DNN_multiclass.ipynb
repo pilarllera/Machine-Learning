{
  "cells": [
    {
      "cell_type": "markdown",
      "metadata": {
        "id": "OUBRwgEu3yu1"
      },
      "source": [
        "# Actividad 11B\n",
        "\n",
        "\n",
        "El objetivo de esta actividad es aplicar los conceptos teóricos presentados en las actividades de exploración.\n",
        "\n",
        "Para que los resultados sean reproducibles (los resultados no varíen entre ejecuciones), hay que establecer el parámetro `random_state` con un valor fijo en todas las funciones que tomen decisiones aleatorias. Para ello usaremos la siguiente constante."
      ]
    },
    {
      "cell_type": "code",
      "source": [
        "RANDOM_STATE = 1234"
      ],
      "metadata": {
        "id": "F0hUIZFknf7o"
      },
      "execution_count": 1,
      "outputs": []
    },
    {
      "cell_type": "markdown",
      "source": [
        "# Carga del conjunto de datos\n",
        "\n",
        "\n",
        "El primer paso es cargar un dataset donde los datos sean textuales, p.ej.: revisiones de películas tipo IMBD o noticias tipo Reuters. Este dataset debe estar en un fichero csv y no debe tener separados los datos en entrenamiento y validación.\n",
        "El dataset hay que entregarlo también."
      ],
      "metadata": {
        "id": "c7wOPXNcnkjb"
      }
    },
    {
      "cell_type": "code",
      "execution_count": 2,
      "metadata": {
        "id": "4APomnzH5PGW",
        "colab": {
          "base_uri": "https://localhost:8080/",
          "height": 224
        },
        "outputId": "7bea1c66-1bda-40a4-c3ae-15c98928d6da"
      },
      "outputs": [
        {
          "output_type": "stream",
          "name": "stdout",
          "text": [
            "Mounted at /content/drive\n"
          ]
        },
        {
          "output_type": "execute_result",
          "data": {
            "text/plain": [
              "                                             Comment Emotion\n",
              "0  i seriously hate one subject to death but now ...    fear\n",
              "1                 im so full of life i feel appalled   anger\n",
              "2  i sit here to write i start to dig out my feel...    fear\n",
              "3  ive been really angry with r and i feel like a...     joy\n",
              "4  i feel suspicious if there is no one outside l...    fear"
            ],
            "text/html": [
              "\n",
              "  <div id=\"df-385dbf6b-5642-4a62-b693-cd5e9e16a2e9\" class=\"colab-df-container\">\n",
              "    <div>\n",
              "<style scoped>\n",
              "    .dataframe tbody tr th:only-of-type {\n",
              "        vertical-align: middle;\n",
              "    }\n",
              "\n",
              "    .dataframe tbody tr th {\n",
              "        vertical-align: top;\n",
              "    }\n",
              "\n",
              "    .dataframe thead th {\n",
              "        text-align: right;\n",
              "    }\n",
              "</style>\n",
              "<table border=\"1\" class=\"dataframe\">\n",
              "  <thead>\n",
              "    <tr style=\"text-align: right;\">\n",
              "      <th></th>\n",
              "      <th>Comment</th>\n",
              "      <th>Emotion</th>\n",
              "    </tr>\n",
              "  </thead>\n",
              "  <tbody>\n",
              "    <tr>\n",
              "      <th>0</th>\n",
              "      <td>i seriously hate one subject to death but now ...</td>\n",
              "      <td>fear</td>\n",
              "    </tr>\n",
              "    <tr>\n",
              "      <th>1</th>\n",
              "      <td>im so full of life i feel appalled</td>\n",
              "      <td>anger</td>\n",
              "    </tr>\n",
              "    <tr>\n",
              "      <th>2</th>\n",
              "      <td>i sit here to write i start to dig out my feel...</td>\n",
              "      <td>fear</td>\n",
              "    </tr>\n",
              "    <tr>\n",
              "      <th>3</th>\n",
              "      <td>ive been really angry with r and i feel like a...</td>\n",
              "      <td>joy</td>\n",
              "    </tr>\n",
              "    <tr>\n",
              "      <th>4</th>\n",
              "      <td>i feel suspicious if there is no one outside l...</td>\n",
              "      <td>fear</td>\n",
              "    </tr>\n",
              "  </tbody>\n",
              "</table>\n",
              "</div>\n",
              "    <div class=\"colab-df-buttons\">\n",
              "\n",
              "  <div class=\"colab-df-container\">\n",
              "    <button class=\"colab-df-convert\" onclick=\"convertToInteractive('df-385dbf6b-5642-4a62-b693-cd5e9e16a2e9')\"\n",
              "            title=\"Convert this dataframe to an interactive table.\"\n",
              "            style=\"display:none;\">\n",
              "\n",
              "  <svg xmlns=\"http://www.w3.org/2000/svg\" height=\"24px\" viewBox=\"0 -960 960 960\">\n",
              "    <path d=\"M120-120v-720h720v720H120Zm60-500h600v-160H180v160Zm220 220h160v-160H400v160Zm0 220h160v-160H400v160ZM180-400h160v-160H180v160Zm440 0h160v-160H620v160ZM180-180h160v-160H180v160Zm440 0h160v-160H620v160Z\"/>\n",
              "  </svg>\n",
              "    </button>\n",
              "\n",
              "  <style>\n",
              "    .colab-df-container {\n",
              "      display:flex;\n",
              "      gap: 12px;\n",
              "    }\n",
              "\n",
              "    .colab-df-convert {\n",
              "      background-color: #E8F0FE;\n",
              "      border: none;\n",
              "      border-radius: 50%;\n",
              "      cursor: pointer;\n",
              "      display: none;\n",
              "      fill: #1967D2;\n",
              "      height: 32px;\n",
              "      padding: 0 0 0 0;\n",
              "      width: 32px;\n",
              "    }\n",
              "\n",
              "    .colab-df-convert:hover {\n",
              "      background-color: #E2EBFA;\n",
              "      box-shadow: 0px 1px 2px rgba(60, 64, 67, 0.3), 0px 1px 3px 1px rgba(60, 64, 67, 0.15);\n",
              "      fill: #174EA6;\n",
              "    }\n",
              "\n",
              "    .colab-df-buttons div {\n",
              "      margin-bottom: 4px;\n",
              "    }\n",
              "\n",
              "    [theme=dark] .colab-df-convert {\n",
              "      background-color: #3B4455;\n",
              "      fill: #D2E3FC;\n",
              "    }\n",
              "\n",
              "    [theme=dark] .colab-df-convert:hover {\n",
              "      background-color: #434B5C;\n",
              "      box-shadow: 0px 1px 3px 1px rgba(0, 0, 0, 0.15);\n",
              "      filter: drop-shadow(0px 1px 2px rgba(0, 0, 0, 0.3));\n",
              "      fill: #FFFFFF;\n",
              "    }\n",
              "  </style>\n",
              "\n",
              "    <script>\n",
              "      const buttonEl =\n",
              "        document.querySelector('#df-385dbf6b-5642-4a62-b693-cd5e9e16a2e9 button.colab-df-convert');\n",
              "      buttonEl.style.display =\n",
              "        google.colab.kernel.accessAllowed ? 'block' : 'none';\n",
              "\n",
              "      async function convertToInteractive(key) {\n",
              "        const element = document.querySelector('#df-385dbf6b-5642-4a62-b693-cd5e9e16a2e9');\n",
              "        const dataTable =\n",
              "          await google.colab.kernel.invokeFunction('convertToInteractive',\n",
              "                                                    [key], {});\n",
              "        if (!dataTable) return;\n",
              "\n",
              "        const docLinkHtml = 'Like what you see? Visit the ' +\n",
              "          '<a target=\"_blank\" href=https://colab.research.google.com/notebooks/data_table.ipynb>data table notebook</a>'\n",
              "          + ' to learn more about interactive tables.';\n",
              "        element.innerHTML = '';\n",
              "        dataTable['output_type'] = 'display_data';\n",
              "        await google.colab.output.renderOutput(dataTable, element);\n",
              "        const docLink = document.createElement('div');\n",
              "        docLink.innerHTML = docLinkHtml;\n",
              "        element.appendChild(docLink);\n",
              "      }\n",
              "    </script>\n",
              "  </div>\n",
              "\n",
              "\n",
              "<div id=\"df-78663fd2-2673-4c25-b3f4-81e5de8993a3\">\n",
              "  <button class=\"colab-df-quickchart\" onclick=\"quickchart('df-78663fd2-2673-4c25-b3f4-81e5de8993a3')\"\n",
              "            title=\"Suggest charts\"\n",
              "            style=\"display:none;\">\n",
              "\n",
              "<svg xmlns=\"http://www.w3.org/2000/svg\" height=\"24px\"viewBox=\"0 0 24 24\"\n",
              "     width=\"24px\">\n",
              "    <g>\n",
              "        <path d=\"M19 3H5c-1.1 0-2 .9-2 2v14c0 1.1.9 2 2 2h14c1.1 0 2-.9 2-2V5c0-1.1-.9-2-2-2zM9 17H7v-7h2v7zm4 0h-2V7h2v10zm4 0h-2v-4h2v4z\"/>\n",
              "    </g>\n",
              "</svg>\n",
              "  </button>\n",
              "\n",
              "<style>\n",
              "  .colab-df-quickchart {\n",
              "      --bg-color: #E8F0FE;\n",
              "      --fill-color: #1967D2;\n",
              "      --hover-bg-color: #E2EBFA;\n",
              "      --hover-fill-color: #174EA6;\n",
              "      --disabled-fill-color: #AAA;\n",
              "      --disabled-bg-color: #DDD;\n",
              "  }\n",
              "\n",
              "  [theme=dark] .colab-df-quickchart {\n",
              "      --bg-color: #3B4455;\n",
              "      --fill-color: #D2E3FC;\n",
              "      --hover-bg-color: #434B5C;\n",
              "      --hover-fill-color: #FFFFFF;\n",
              "      --disabled-bg-color: #3B4455;\n",
              "      --disabled-fill-color: #666;\n",
              "  }\n",
              "\n",
              "  .colab-df-quickchart {\n",
              "    background-color: var(--bg-color);\n",
              "    border: none;\n",
              "    border-radius: 50%;\n",
              "    cursor: pointer;\n",
              "    display: none;\n",
              "    fill: var(--fill-color);\n",
              "    height: 32px;\n",
              "    padding: 0;\n",
              "    width: 32px;\n",
              "  }\n",
              "\n",
              "  .colab-df-quickchart:hover {\n",
              "    background-color: var(--hover-bg-color);\n",
              "    box-shadow: 0 1px 2px rgba(60, 64, 67, 0.3), 0 1px 3px 1px rgba(60, 64, 67, 0.15);\n",
              "    fill: var(--button-hover-fill-color);\n",
              "  }\n",
              "\n",
              "  .colab-df-quickchart-complete:disabled,\n",
              "  .colab-df-quickchart-complete:disabled:hover {\n",
              "    background-color: var(--disabled-bg-color);\n",
              "    fill: var(--disabled-fill-color);\n",
              "    box-shadow: none;\n",
              "  }\n",
              "\n",
              "  .colab-df-spinner {\n",
              "    border: 2px solid var(--fill-color);\n",
              "    border-color: transparent;\n",
              "    border-bottom-color: var(--fill-color);\n",
              "    animation:\n",
              "      spin 1s steps(1) infinite;\n",
              "  }\n",
              "\n",
              "  @keyframes spin {\n",
              "    0% {\n",
              "      border-color: transparent;\n",
              "      border-bottom-color: var(--fill-color);\n",
              "      border-left-color: var(--fill-color);\n",
              "    }\n",
              "    20% {\n",
              "      border-color: transparent;\n",
              "      border-left-color: var(--fill-color);\n",
              "      border-top-color: var(--fill-color);\n",
              "    }\n",
              "    30% {\n",
              "      border-color: transparent;\n",
              "      border-left-color: var(--fill-color);\n",
              "      border-top-color: var(--fill-color);\n",
              "      border-right-color: var(--fill-color);\n",
              "    }\n",
              "    40% {\n",
              "      border-color: transparent;\n",
              "      border-right-color: var(--fill-color);\n",
              "      border-top-color: var(--fill-color);\n",
              "    }\n",
              "    60% {\n",
              "      border-color: transparent;\n",
              "      border-right-color: var(--fill-color);\n",
              "    }\n",
              "    80% {\n",
              "      border-color: transparent;\n",
              "      border-right-color: var(--fill-color);\n",
              "      border-bottom-color: var(--fill-color);\n",
              "    }\n",
              "    90% {\n",
              "      border-color: transparent;\n",
              "      border-bottom-color: var(--fill-color);\n",
              "    }\n",
              "  }\n",
              "</style>\n",
              "\n",
              "  <script>\n",
              "    async function quickchart(key) {\n",
              "      const quickchartButtonEl =\n",
              "        document.querySelector('#' + key + ' button');\n",
              "      quickchartButtonEl.disabled = true;  // To prevent multiple clicks.\n",
              "      quickchartButtonEl.classList.add('colab-df-spinner');\n",
              "      try {\n",
              "        const charts = await google.colab.kernel.invokeFunction(\n",
              "            'suggestCharts', [key], {});\n",
              "      } catch (error) {\n",
              "        console.error('Error during call to suggestCharts:', error);\n",
              "      }\n",
              "      quickchartButtonEl.classList.remove('colab-df-spinner');\n",
              "      quickchartButtonEl.classList.add('colab-df-quickchart-complete');\n",
              "    }\n",
              "    (() => {\n",
              "      let quickchartButtonEl =\n",
              "        document.querySelector('#df-78663fd2-2673-4c25-b3f4-81e5de8993a3 button');\n",
              "      quickchartButtonEl.style.display =\n",
              "        google.colab.kernel.accessAllowed ? 'block' : 'none';\n",
              "    })();\n",
              "  </script>\n",
              "</div>\n",
              "    </div>\n",
              "  </div>\n"
            ]
          },
          "metadata": {},
          "execution_count": 2
        }
      ],
      "source": [
        "# CARGA DEL DATASET\n",
        "\n",
        "import matplotlib.pyplot as plt\n",
        "import pandas as pd\n",
        "import numpy as np\n",
        "\n",
        "from google.colab import drive\n",
        "drive.mount('/content/drive')\n",
        "path = \"/content/drive/MyDrive/Colab Notebooks/EALC/\"\n",
        "\n",
        "emotion_file = path + \"emotion.csv\"\n",
        "\n",
        "df = pd.read_csv(emotion_file)\n",
        "df.head()"
      ]
    },
    {
      "cell_type": "code",
      "source": [
        "# MUESTRA CUANTOS DATOS HAY, CUANTOS ATRIBUTOS, CUANTAS CLASES\n",
        "\n",
        "print(\"Primeras filas del DataFrame:\")\n",
        "print(df.head())\n",
        "\n",
        "# Obtener información general sobre el DataFrame\n",
        "print(\"\\nInformación general sobre el DataFrame:\")\n",
        "print(df.info())\n",
        "\n",
        "# Contar los atributos\n",
        "\n",
        "# Contar la cantidad de datos en el DataFrame\n",
        "filas, columnas = df.shape\n",
        "print(f\"\\nNúmero de filas: {filas}\")\n",
        "print(f\"Número de columnas: {columnas}\")\n",
        "\n",
        "# Contar la cantidad de clases en el DataFrame\n",
        "\n",
        "clases_count = df['Emotion'].nunique()\n",
        "print(f\"\\nNúmero de clases: {clases_count}\")\n",
        "\n",
        "emociones_unicas = df['Emotion'].unique()\n",
        "print(\"Tipos únicos de emociones:\", emociones_unicas)\n"
      ],
      "metadata": {
        "colab": {
          "base_uri": "https://localhost:8080/"
        },
        "id": "tJ8kw1NfdLQ1",
        "outputId": "35eb529a-94bd-47dd-c7b2-6cfd97eb7777"
      },
      "execution_count": 3,
      "outputs": [
        {
          "output_type": "stream",
          "name": "stdout",
          "text": [
            "Primeras filas del DataFrame:\n",
            "                                             Comment Emotion\n",
            "0  i seriously hate one subject to death but now ...    fear\n",
            "1                 im so full of life i feel appalled   anger\n",
            "2  i sit here to write i start to dig out my feel...    fear\n",
            "3  ive been really angry with r and i feel like a...     joy\n",
            "4  i feel suspicious if there is no one outside l...    fear\n",
            "\n",
            "Información general sobre el DataFrame:\n",
            "<class 'pandas.core.frame.DataFrame'>\n",
            "RangeIndex: 5937 entries, 0 to 5936\n",
            "Data columns (total 2 columns):\n",
            " #   Column   Non-Null Count  Dtype \n",
            "---  ------   --------------  ----- \n",
            " 0   Comment  5937 non-null   object\n",
            " 1   Emotion  5937 non-null   object\n",
            "dtypes: object(2)\n",
            "memory usage: 92.9+ KB\n",
            "None\n",
            "\n",
            "Número de filas: 5937\n",
            "Número de columnas: 2\n",
            "\n",
            "Número de clases: 3\n",
            "Tipos únicos de emociones: ['fear' 'anger' 'joy']\n"
          ]
        }
      ]
    },
    {
      "cell_type": "code",
      "source": [
        "import seaborn as sns\n",
        "import matplotlib.pyplot as plt\n",
        "\n",
        "print('\\033[1m' + 'Forma:' + '\\033[0m', df.shape)\n",
        "print('\\033[1m' + 'Columnas:' + '\\033[0m', df.columns, '\\n')\n",
        "print('\\033[1m' + 'Valores de las emociones:' + '\\033[0m')\n",
        "print(df.Emotion.value_counts(), '\\n')\n",
        "\n",
        "with sns.axes_style(\"darkgrid\"):\n",
        "    df['Emotion'].value_counts().plot.bar(color=['darkblue', 'r'], rot=0, fontsize='large')\n",
        "    plt.show()\n",
        "\n",
        "print('\\033[1m' + 'df.info:' + '\\033[0m')\n",
        "df.info()\n"
      ],
      "metadata": {
        "colab": {
          "base_uri": "https://localhost:8080/",
          "height": 773
        },
        "id": "kv6KD7MUgB5X",
        "outputId": "ab1e60ac-1967-4d82-93e0-cc6a39f22ed3"
      },
      "execution_count": 4,
      "outputs": [
        {
          "output_type": "stream",
          "name": "stdout",
          "text": [
            "\u001b[1mForma:\u001b[0m (5937, 2)\n",
            "\u001b[1mColumnas:\u001b[0m Index(['Comment', 'Emotion'], dtype='object') \n",
            "\n",
            "\u001b[1mValores de las emociones:\u001b[0m\n",
            "anger    2000\n",
            "joy      2000\n",
            "fear     1937\n",
            "Name: Emotion, dtype: int64 \n",
            "\n"
          ]
        },
        {
          "output_type": "display_data",
          "data": {
            "text/plain": [
              "<Figure size 640x480 with 1 Axes>"
            ],
            "image/png": "[encoded data removed]"
          },
          "metadata": {}
        },
        {
          "output_type": "stream",
          "name": "stdout",
          "text": [
            "\u001b[1mdf.info:\u001b[0m\n",
            "<class 'pandas.core.frame.DataFrame'>\n",
            "RangeIndex: 5937 entries, 0 to 5936\n",
            "Data columns (total 2 columns):\n",
            " #   Column   Non-Null Count  Dtype \n",
            "---  ------   --------------  ----- \n",
            " 0   Comment  5937 non-null   object\n",
            " 1   Emotion  5937 non-null   object\n",
            "dtypes: object(2)\n",
            "memory usage: 92.9+ KB\n"
          ]
        }
      ]
    },
    {
      "cell_type": "code",
      "source": [
        "# MUESTRA DOS INSTANCIAS DE DOS CLASES DISTINTAS\n",
        "clase_1 = df[df['Emotion'] == 'fear']['Comment'].iloc[0]\n",
        "clase_2 = df[df['Emotion'] == 'anger']['Comment'].iloc[0]\n",
        "\n",
        "# Imprimir el texto de las instancias\n",
        "print(\"\\nTexto de la instancia de clase 1:\")\n",
        "print(clase_1)\n",
        "\n",
        "print(\"\\nTexto de la instancia de clase 2:\")\n",
        "print(clase_2)"
      ],
      "metadata": {
        "colab": {
          "base_uri": "https://localhost:8080/"
        },
        "id": "4X8eaLzQeyEh",
        "outputId": "4a29af02-7bc0-4166-afc3-55e344dd54ee"
      },
      "execution_count": 5,
      "outputs": [
        {
          "output_type": "stream",
          "name": "stdout",
          "text": [
            "\n",
            "Texto de la instancia de clase 1:\n",
            "i seriously hate one subject to death but now i feel reluctant to drop it\n",
            "\n",
            "Texto de la instancia de clase 2:\n",
            "im so full of life i feel appalled\n"
          ]
        }
      ]
    },
    {
      "cell_type": "code",
      "source": [
        "# PREPROCESAMIENTO DEL DATASET\n",
        "import re\n",
        "import nltk\n",
        "from nltk.corpus import stopwords\n",
        "\n",
        "wpt = nltk.WordPunctTokenizer()\n",
        "nltk.download('stopwords') # añadido\n",
        "stop_words = nltk.corpus.stopwords.words('english')\n",
        "\n",
        "def normalize_document(doc):\n",
        "    # lower case and remove special characters\\whitespaces\n",
        "    doc = re.sub(r'[^a-zA-Z\\s]', '', doc, re.I|re.A)\n",
        "    doc = doc.lower()\n",
        "    doc = doc.strip()\n",
        "    # tokenize document\n",
        "    tokens = wpt.tokenize(doc)\n",
        "    # filter stopwords out of document\n",
        "    filtered_tokens = [token for token in tokens if token not in stop_words]\n",
        "    # re-create document from filtered tokens\n",
        "    doc = ' '.join(filtered_tokens)\n",
        "    return doc\n",
        "\n",
        "# Crear una nueva columna 'review_normalized' en el DataFrame\n",
        "df['comment_normalized'] = df['Comment'].apply(normalize_document)\n",
        "\n",
        "# Verificar el DataFrame resultante\n",
        "df.head(10)"
      ],
      "metadata": {
        "colab": {
          "base_uri": "https://localhost:8080/",
          "height": 399
        },
        "id": "rcDlMK_pnydI",
        "outputId": "8996baf6-4ef3-48c8-b620-a52838180e44"
      },
      "execution_count": 6,
      "outputs": [
        {
          "output_type": "stream",
          "name": "stderr",
          "text": [
            "[nltk_data] Downloading package stopwords to /root/nltk_data...\n",
            "[nltk_data]   Unzipping corpora/stopwords.zip.\n"
          ]
        },
        {
          "output_type": "execute_result",
          "data": {
            "text/plain": [
              "                                             Comment Emotion  \\\n",
              "0  i seriously hate one subject to death but now ...    fear   \n",
              "1                 im so full of life i feel appalled   anger   \n",
              "2  i sit here to write i start to dig out my feel...    fear   \n",
              "3  ive been really angry with r and i feel like a...     joy   \n",
              "4  i feel suspicious if there is no one outside l...    fear   \n",
              "5  i feel jealous becasue i wanted that kind of l...   anger   \n",
              "6  when a friend of mine keeps telling me morbid ...   anger   \n",
              "7  i finally fell asleep feeling angry useless an...   anger   \n",
              "8       i feel a bit annoyed and antsy in a good way   anger   \n",
              "9  i feel like i ve regained another vital part o...     joy   \n",
              "\n",
              "                                  comment_normalized  \n",
              "0  seriously hate one subject death feel reluctan...  \n",
              "1                         im full life feel appalled  \n",
              "2  sit write start dig feelings think afraid acce...  \n",
              "3  ive really angry r feel like idiot trusting fi...  \n",
              "4  feel suspicious one outside like rapture happe...  \n",
              "5  feel jealous becasue wanted kind love true con...  \n",
              "6  friend mine keeps telling morbid things happen...  \n",
              "7  finally fell asleep feeling angry useless stil...  \n",
              "8                    feel bit annoyed antsy good way  \n",
              "9  feel like regained another vital part life living  "
            ],
            "text/html": [
              "\n",
              "  <div id=\"df-d56ac1bb-f29a-4347-bf59-dad92f8ffc09\" class=\"colab-df-container\">\n",
              "    <div>\n",
              "<style scoped>\n",
              "    .dataframe tbody tr th:only-of-type {\n",
              "        vertical-align: middle;\n",
              "    }\n",
              "\n",
              "    .dataframe tbody tr th {\n",
              "        vertical-align: top;\n",
              "    }\n",
              "\n",
              "    .dataframe thead th {\n",
              "        text-align: right;\n",
              "    }\n",
              "</style>\n",
              "<table border=\"1\" class=\"dataframe\">\n",
              "  <thead>\n",
              "    <tr style=\"text-align: right;\">\n",
              "      <th></th>\n",
              "      <th>Comment</th>\n",
              "      <th>Emotion</th>\n",
              "      <th>comment_normalized</th>\n",
              "    </tr>\n",
              "  </thead>\n",
              "  <tbody>\n",
              "    <tr>\n",
              "      <th>0</th>\n",
              "      <td>i seriously hate one subject to death but now ...</td>\n",
              "      <td>fear</td>\n",
              "      <td>seriously hate one subject death feel reluctan...</td>\n",
              "    </tr>\n",
              "    <tr>\n",
              "      <th>1</th>\n",
              "      <td>im so full of life i feel appalled</td>\n",
              "      <td>anger</td>\n",
              "      <td>im full life feel appalled</td>\n",
              "    </tr>\n",
              "    <tr>\n",
              "      <th>2</th>\n",
              "      <td>i sit here to write i start to dig out my feel...</td>\n",
              "      <td>fear</td>\n",
              "      <td>sit write start dig feelings think afraid acce...</td>\n",
              "    </tr>\n",
              "    <tr>\n",
              "      <th>3</th>\n",
              "      <td>ive been really angry with r and i feel like a...</td>\n",
              "      <td>joy</td>\n",
              "      <td>ive really angry r feel like idiot trusting fi...</td>\n",
              "    </tr>\n",
              "    <tr>\n",
              "      <th>4</th>\n",
              "      <td>i feel suspicious if there is no one outside l...</td>\n",
              "      <td>fear</td>\n",
              "      <td>feel suspicious one outside like rapture happe...</td>\n",
              "    </tr>\n",
              "    <tr>\n",
              "      <th>5</th>\n",
              "      <td>i feel jealous becasue i wanted that kind of l...</td>\n",
              "      <td>anger</td>\n",
              "      <td>feel jealous becasue wanted kind love true con...</td>\n",
              "    </tr>\n",
              "    <tr>\n",
              "      <th>6</th>\n",
              "      <td>when a friend of mine keeps telling me morbid ...</td>\n",
              "      <td>anger</td>\n",
              "      <td>friend mine keeps telling morbid things happen...</td>\n",
              "    </tr>\n",
              "    <tr>\n",
              "      <th>7</th>\n",
              "      <td>i finally fell asleep feeling angry useless an...</td>\n",
              "      <td>anger</td>\n",
              "      <td>finally fell asleep feeling angry useless stil...</td>\n",
              "    </tr>\n",
              "    <tr>\n",
              "      <th>8</th>\n",
              "      <td>i feel a bit annoyed and antsy in a good way</td>\n",
              "      <td>anger</td>\n",
              "      <td>feel bit annoyed antsy good way</td>\n",
              "    </tr>\n",
              "    <tr>\n",
              "      <th>9</th>\n",
              "      <td>i feel like i ve regained another vital part o...</td>\n",
              "      <td>joy</td>\n",
              "      <td>feel like regained another vital part life living</td>\n",
              "    </tr>\n",
              "  </tbody>\n",
              "</table>\n",
              "</div>\n",
              "    <div class=\"colab-df-buttons\">\n",
              "\n",
              "  <div class=\"colab-df-container\">\n",
              "    <button class=\"colab-df-convert\" onclick=\"convertToInteractive('df-d56ac1bb-f29a-4347-bf59-dad92f8ffc09')\"\n",
              "            title=\"Convert this dataframe to an interactive table.\"\n",
              "            style=\"display:none;\">\n",
              "\n",
              "  <svg xmlns=\"http://www.w3.org/2000/svg\" height=\"24px\" viewBox=\"0 -960 960 960\">\n",
              "    <path d=\"M120-120v-720h720v720H120Zm60-500h600v-160H180v160Zm220 220h160v-160H400v160Zm0 220h160v-160H400v160ZM180-400h160v-160H180v160Zm440 0h160v-160H620v160ZM180-180h160v-160H180v160Zm440 0h160v-160H620v160Z\"/>\n",
              "  </svg>\n",
              "    </button>\n",
              "\n",
              "  <style>\n",
              "    .colab-df-container {\n",
              "      display:flex;\n",
              "      gap: 12px;\n",
              "    }\n",
              "\n",
              "    .colab-df-convert {\n",
              "      background-color: #E8F0FE;\n",
              "      border: none;\n",
              "      border-radius: 50%;\n",
              "      cursor: pointer;\n",
              "      display: none;\n",
              "      fill: #1967D2;\n",
              "      height: 32px;\n",
              "      padding: 0 0 0 0;\n",
              "      width: 32px;\n",
              "    }\n",
              "\n",
              "    .colab-df-convert:hover {\n",
              "      background-color: #E2EBFA;\n",
              "      box-shadow: 0px 1px 2px rgba(60, 64, 67, 0.3), 0px 1px 3px 1px rgba(60, 64, 67, 0.15);\n",
              "      fill: #174EA6;\n",
              "    }\n",
              "\n",
              "    .colab-df-buttons div {\n",
              "      margin-bottom: 4px;\n",
              "    }\n",
              "\n",
              "    [theme=dark] .colab-df-convert {\n",
              "      background-color: #3B4455;\n",
              "      fill: #D2E3FC;\n",
              "    }\n",
              "\n",
              "    [theme=dark] .colab-df-convert:hover {\n",
              "      background-color: #434B5C;\n",
              "      box-shadow: 0px 1px 3px 1px rgba(0, 0, 0, 0.15);\n",
              "      filter: drop-shadow(0px 1px 2px rgba(0, 0, 0, 0.3));\n",
              "      fill: #FFFFFF;\n",
              "    }\n",
              "  </style>\n",
              "\n",
              "    <script>\n",
              "      const buttonEl =\n",
              "        document.querySelector('#df-d56ac1bb-f29a-4347-bf59-dad92f8ffc09 button.colab-df-convert');\n",
              "      buttonEl.style.display =\n",
              "        google.colab.kernel.accessAllowed ? 'block' : 'none';\n",
              "\n",
              "      async function convertToInteractive(key) {\n",
              "        const element = document.querySelector('#df-d56ac1bb-f29a-4347-bf59-dad92f8ffc09');\n",
              "        const dataTable =\n",
              "          await google.colab.kernel.invokeFunction('convertToInteractive',\n",
              "                                                    [key], {});\n",
              "        if (!dataTable) return;\n",
              "\n",
              "        const docLinkHtml = 'Like what you see? Visit the ' +\n",
              "          '<a target=\"_blank\" href=https://colab.research.google.com/notebooks/data_table.ipynb>data table notebook</a>'\n",
              "          + ' to learn more about interactive tables.';\n",
              "        element.innerHTML = '';\n",
              "        dataTable['output_type'] = 'display_data';\n",
              "        await google.colab.output.renderOutput(dataTable, element);\n",
              "        const docLink = document.createElement('div');\n",
              "        docLink.innerHTML = docLinkHtml;\n",
              "        element.appendChild(docLink);\n",
              "      }\n",
              "    </script>\n",
              "  </div>\n",
              "\n",
              "\n",
              "<div id=\"df-4e77db56-7886-4246-b11e-5cdc27b937f6\">\n",
              "  <button class=\"colab-df-quickchart\" onclick=\"quickchart('df-4e77db56-7886-4246-b11e-5cdc27b937f6')\"\n",
              "            title=\"Suggest charts\"\n",
              "            style=\"display:none;\">\n",
              "\n",
              "<svg xmlns=\"http://www.w3.org/2000/svg\" height=\"24px\"viewBox=\"0 0 24 24\"\n",
              "     width=\"24px\">\n",
              "    <g>\n",
              "        <path d=\"M19 3H5c-1.1 0-2 .9-2 2v14c0 1.1.9 2 2 2h14c1.1 0 2-.9 2-2V5c0-1.1-.9-2-2-2zM9 17H7v-7h2v7zm4 0h-2V7h2v10zm4 0h-2v-4h2v4z\"/>\n",
              "    </g>\n",
              "</svg>\n",
              "  </button>\n",
              "\n",
              "<style>\n",
              "  .colab-df-quickchart {\n",
              "      --bg-color: #E8F0FE;\n",
              "      --fill-color: #1967D2;\n",
              "      --hover-bg-color: #E2EBFA;\n",
              "      --hover-fill-color: #174EA6;\n",
              "      --disabled-fill-color: #AAA;\n",
              "      --disabled-bg-color: #DDD;\n",
              "  }\n",
              "\n",
              "  [theme=dark] .colab-df-quickchart {\n",
              "      --bg-color: #3B4455;\n",
              "      --fill-color: #D2E3FC;\n",
              "      --hover-bg-color: #434B5C;\n",
              "      --hover-fill-color: #FFFFFF;\n",
              "      --disabled-bg-color: #3B4455;\n",
              "      --disabled-fill-color: #666;\n",
              "  }\n",
              "\n",
              "  .colab-df-quickchart {\n",
              "    background-color: var(--bg-color);\n",
              "    border: none;\n",
              "    border-radius: 50%;\n",
              "    cursor: pointer;\n",
              "    display: none;\n",
              "    fill: var(--fill-color);\n",
              "    height: 32px;\n",
              "    padding: 0;\n",
              "    width: 32px;\n",
              "  }\n",
              "\n",
              "  .colab-df-quickchart:hover {\n",
              "    background-color: var(--hover-bg-color);\n",
              "    box-shadow: 0 1px 2px rgba(60, 64, 67, 0.3), 0 1px 3px 1px rgba(60, 64, 67, 0.15);\n",
              "    fill: var(--button-hover-fill-color);\n",
              "  }\n",
              "\n",
              "  .colab-df-quickchart-complete:disabled,\n",
              "  .colab-df-quickchart-complete:disabled:hover {\n",
              "    background-color: var(--disabled-bg-color);\n",
              "    fill: var(--disabled-fill-color);\n",
              "    box-shadow: none;\n",
              "  }\n",
              "\n",
              "  .colab-df-spinner {\n",
              "    border: 2px solid var(--fill-color);\n",
              "    border-color: transparent;\n",
              "    border-bottom-color: var(--fill-color);\n",
              "    animation:\n",
              "      spin 1s steps(1) infinite;\n",
              "  }\n",
              "\n",
              "  @keyframes spin {\n",
              "    0% {\n",
              "      border-color: transparent;\n",
              "      border-bottom-color: var(--fill-color);\n",
              "      border-left-color: var(--fill-color);\n",
              "    }\n",
              "    20% {\n",
              "      border-color: transparent;\n",
              "      border-left-color: var(--fill-color);\n",
              "      border-top-color: var(--fill-color);\n",
              "    }\n",
              "    30% {\n",
              "      border-color: transparent;\n",
              "      border-left-color: var(--fill-color);\n",
              "      border-top-color: var(--fill-color);\n",
              "      border-right-color: var(--fill-color);\n",
              "    }\n",
              "    40% {\n",
              "      border-color: transparent;\n",
              "      border-right-color: var(--fill-color);\n",
              "      border-top-color: var(--fill-color);\n",
              "    }\n",
              "    60% {\n",
              "      border-color: transparent;\n",
              "      border-right-color: var(--fill-color);\n",
              "    }\n",
              "    80% {\n",
              "      border-color: transparent;\n",
              "      border-right-color: var(--fill-color);\n",
              "      border-bottom-color: var(--fill-color);\n",
              "    }\n",
              "    90% {\n",
              "      border-color: transparent;\n",
              "      border-bottom-color: var(--fill-color);\n",
              "    }\n",
              "  }\n",
              "</style>\n",
              "\n",
              "  <script>\n",
              "    async function quickchart(key) {\n",
              "      const quickchartButtonEl =\n",
              "        document.querySelector('#' + key + ' button');\n",
              "      quickchartButtonEl.disabled = true;  // To prevent multiple clicks.\n",
              "      quickchartButtonEl.classList.add('colab-df-spinner');\n",
              "      try {\n",
              "        const charts = await google.colab.kernel.invokeFunction(\n",
              "            'suggestCharts', [key], {});\n",
              "      } catch (error) {\n",
              "        console.error('Error during call to suggestCharts:', error);\n",
              "      }\n",
              "      quickchartButtonEl.classList.remove('colab-df-spinner');\n",
              "      quickchartButtonEl.classList.add('colab-df-quickchart-complete');\n",
              "    }\n",
              "    (() => {\n",
              "      let quickchartButtonEl =\n",
              "        document.querySelector('#df-4e77db56-7886-4246-b11e-5cdc27b937f6 button');\n",
              "      quickchartButtonEl.style.display =\n",
              "        google.colab.kernel.accessAllowed ? 'block' : 'none';\n",
              "    })();\n",
              "  </script>\n",
              "</div>\n",
              "    </div>\n",
              "  </div>\n"
            ]
          },
          "metadata": {},
          "execution_count": 6
        }
      ]
    },
    {
      "cell_type": "code",
      "source": [
        "# SEPARACIÓN DEL DATASET EN ENTRENAMIENTO Y VALIDACIÓN\n",
        "\n",
        "from sklearn.model_selection import train_test_split\n",
        "\n",
        "X = df['comment_normalized']\n",
        "y = df['Emotion']\n",
        "\n",
        "# Dividimos el conjunto de datos en entrenamiento (80 %) y prueba (20 %)\n",
        "X_train, X_test, y_train, y_test = train_test_split(X, y, test_size=0.2, random_state=1234)\n",
        "\n",
        "\n",
        "# Imprimir la cantidad de textos en entrenamiento y prueba después de la división\n",
        "print(\"Training texts:\", len(X_train))\n",
        "print(\"Test texts:\", len(X_test))"
      ],
      "metadata": {
        "id": "iTlyq4eoY37n",
        "colab": {
          "base_uri": "https://localhost:8080/"
        },
        "outputId": "bfcd5932-9af8-4902-eb29-6a84730e3a1b"
      },
      "execution_count": 7,
      "outputs": [
        {
          "output_type": "stream",
          "name": "stdout",
          "text": [
            "Training texts: 4749\n",
            "Test texts: 1188\n"
          ]
        }
      ]
    },
    {
      "cell_type": "code",
      "source": [
        "# Importar las bibliotecas necesarias\n",
        "from sklearn.feature_extraction.text import CountVectorizer\n",
        "\n",
        "# Tokenizar y contar las palabras únicas en 'comment_normalized'\n",
        "vectorizer = CountVectorizer()\n",
        "X = vectorizer.fit_transform(df['comment_normalized'])\n",
        "\n",
        "# Obtener la lista de palabras únicas\n",
        "unique_words = vectorizer.get_feature_names_out()\n",
        "\n",
        "# Contar la cantidad de palabras únicas\n",
        "num_unique_words = len(unique_words)\n",
        "\n",
        "print(f\"Número de palabras únicas: {num_unique_words}\")\n"
      ],
      "metadata": {
        "colab": {
          "base_uri": "https://localhost:8080/"
        },
        "id": "V96_hxQSo3GG",
        "outputId": "123be45f-bb43-4b8c-f42a-d0a883df39bd"
      },
      "execution_count": 8,
      "outputs": [
        {
          "output_type": "stream",
          "name": "stdout",
          "text": [
            "Número de palabras únicas: 8817\n"
          ]
        }
      ]
    },
    {
      "cell_type": "code",
      "source": [
        "# PREPARA LOS DATOS PARA INTRODUCIRLOS EN UNA RED NEURONAL\n",
        "\n",
        "from keras.preprocessing.text import Tokenizer\n",
        "\n",
        "dict_size = 8817\n",
        "tokenizer = Tokenizer(num_words=dict_size)\n",
        "tokenizer.fit_on_texts(df['comment_normalized'])\n",
        "\n",
        "print('\\033[1m' + 'Dictionary size:' + '\\033[0m', dict_size)\n",
        "print('\\033[1m' + 'Length of the tokenizer index:' + '\\033[0m', len(tokenizer.word_index))\n",
        "print('\\033[1m' + 'Number of documents the tokenizer was trained on:' + '\\033[0m', tokenizer.document_count, '\\n')\n",
        "print('\\033[1m' + 'First 20 entries of the tokenizer index:' + '\\033[0m')\n",
        "print(*list(tokenizer.word_index.items())[:20])\n"
      ],
      "metadata": {
        "id": "OhvG1jqKr4Je",
        "colab": {
          "base_uri": "https://localhost:8080/"
        },
        "outputId": "e2f4ce66-5361-4835-80e5-8eecd30702e3"
      },
      "execution_count": 9,
      "outputs": [
        {
          "output_type": "stream",
          "name": "stdout",
          "text": [
            "\u001b[1mDictionary size:\u001b[0m 8817\n",
            "\u001b[1mLength of the tokenizer index:\u001b[0m 8834\n",
            "\u001b[1mNumber of documents the tokenizer was trained on:\u001b[0m 5937 \n",
            "\n",
            "\u001b[1mFirst 20 entries of the tokenizer index:\u001b[0m\n",
            "('feel', 1) ('feeling', 2) ('like', 3) ('im', 4) ('little', 5) ('really', 6) ('know', 7) ('time', 8) ('get', 9) ('want', 10) ('people', 11) ('bit', 12) ('would', 13) ('think', 14) ('even', 15) ('one', 16) ('still', 17) ('ive', 18) ('way', 19) ('going', 20)\n"
          ]
        }
      ]
    },
    {
      "cell_type": "code",
      "source": [
        "train_tokens = tokenizer.texts_to_sequences(X_train)\n",
        "test_tokens = tokenizer.texts_to_sequences(X_test)\n",
        "seq_lengths =  np.array([len(sequence) for sequence in train_tokens])"
      ],
      "metadata": {
        "id": "4YZn_nzctYo7"
      },
      "execution_count": 10,
      "outputs": []
    },
    {
      "cell_type": "code",
      "source": [
        "from scipy import stats\n",
        "\n",
        "upper_bound = int(np.mean(seq_lengths) + 2 * np.std(seq_lengths))\n",
        "percentage = stats.percentileofscore(seq_lengths, upper_bound)\n",
        "\n",
        "print('The value of upper_bound is %d and the percentage of sequences in \"train_rev_tokens\" \\\n",
        "of length smaller or equal than upper_bound is %.2f%%.' % (upper_bound, round(percentage, 2)))"
      ],
      "metadata": {
        "colab": {
          "base_uri": "https://localhost:8080/"
        },
        "id": "fgCWDyi4ub9P",
        "outputId": "58e9446c-57d1-4089-a918-540df9233458"
      },
      "execution_count": 11,
      "outputs": [
        {
          "output_type": "stream",
          "name": "stdout",
          "text": [
            "The value of upper_bound is 19 and the percentage of sequences in \"train_rev_tokens\" of length smaller or equal than upper_bound is 94.22%.\n"
          ]
        }
      ]
    },
    {
      "cell_type": "code",
      "source": [
        "from keras.preprocessing.sequence import pad_sequences\n",
        "\n",
        "train_pad = pad_sequences(train_tokens, maxlen=upper_bound)\n",
        "test_pad = pad_sequences(test_tokens, maxlen=upper_bound)\n",
        "\n",
        "print('\\033[1m' + 'train_rev_pad.shape:' + '\\033[0m', train_pad.shape)\n",
        "print('\\033[1m' + 'test_rev_pad.shape:' + '\\033[0m', test_pad.shape, '\\n')"
      ],
      "metadata": {
        "colab": {
          "base_uri": "https://localhost:8080/"
        },
        "id": "o5LxRwLMu0i8",
        "outputId": "8f1fda2c-3f34-4d6d-eb9b-e7c2718e9966"
      },
      "execution_count": 12,
      "outputs": [
        {
          "output_type": "stream",
          "name": "stdout",
          "text": [
            "\u001b[1mtrain_rev_pad.shape:\u001b[0m (4749, 19)\n",
            "\u001b[1mtest_rev_pad.shape:\u001b[0m (1188, 19) \n",
            "\n"
          ]
        }
      ]
    },
    {
      "cell_type": "code",
      "source": [
        "from numpy import random\n",
        "\n",
        "idx_pad = random.randint(0, len(train_pad)-1)\n",
        "print('\\033[1m' + 'Review #%d after padding:' %idx_pad + '\\033[0m' + '\\n', train_pad[idx_pad])"
      ],
      "metadata": {
        "colab": {
          "base_uri": "https://localhost:8080/"
        },
        "id": "GPBnvbbXvTQ2",
        "outputId": "bb1fa24f-6167-4957-d9b7-0c59805b6cf9"
      },
      "execution_count": 13,
      "outputs": [
        {
          "output_type": "stream",
          "name": "stdout",
          "text": [
            "\u001b[1mReview #2471 after padding:\u001b[0m\n",
            " [   0    0    0    0    0    0    0   34    1   86  235  124   93  270\n",
            "   86 1365    1   47   86]\n"
          ]
        }
      ]
    },
    {
      "cell_type": "code",
      "source": [
        "import numpy as np\n",
        "\n",
        "def vectorize_sequences(sequences, dimension=8817):\n",
        "    results = np.zeros((len(sequences), dimension))\n",
        "    for i, sequence in enumerate(sequences):\n",
        "        results[i, sequence] = 1.\n",
        "    return results\n",
        "\n",
        "# Our vectorized training data\n",
        "x_train = vectorize_sequences(train_pad)\n",
        "# Our vectorized test data\n",
        "x_test = vectorize_sequences(test_pad)\n",
        "print(x_train.shape)\n",
        "print(x_test.shape)"
      ],
      "metadata": {
        "colab": {
          "base_uri": "https://localhost:8080/"
        },
        "id": "KIhzjmVsvzDt",
        "outputId": "4271d767-111c-4a67-d624-0458c8aef09b"
      },
      "execution_count": 14,
      "outputs": [
        {
          "output_type": "stream",
          "name": "stdout",
          "text": [
            "(4749, 8817)\n",
            "(1188, 8817)\n"
          ]
        }
      ]
    },
    {
      "cell_type": "code",
      "source": [
        "from sklearn.preprocessing import LabelEncoder\n",
        "from keras.utils import to_categorical\n",
        "\n",
        "label_encoder = LabelEncoder()\n",
        "\n",
        "y_train_numeric = label_encoder.fit_transform(y_train)\n",
        "y_test_numeric = label_encoder.transform(y_test)\n",
        "\n",
        "y_train_one_hot = to_categorical(y_train_numeric, num_classes=3)\n",
        "y_test_one_hot = to_categorical(y_test_numeric, num_classes=3)\n"
      ],
      "metadata": {
        "id": "8ujxDEU7zWxa"
      },
      "execution_count": 15,
      "outputs": []
    },
    {
      "cell_type": "code",
      "source": [
        "print(x_train.shape,y_train_one_hot.shape)\n",
        "print(x_test.shape, y_test_one_hot.shape)"
      ],
      "metadata": {
        "colab": {
          "base_uri": "https://localhost:8080/"
        },
        "id": "jf2NJUjd1Cma",
        "outputId": "97cdd379-53cc-4d72-af2d-881faa7519ad"
      },
      "execution_count": 16,
      "outputs": [
        {
          "output_type": "stream",
          "name": "stdout",
          "text": [
            "(4749, 8817) (4749, 3)\n",
            "(1188, 8817) (1188, 3)\n"
          ]
        }
      ]
    },
    {
      "cell_type": "code",
      "source": [
        "print(np.unique(y_train))\n",
        "print(label_encoder.classes_)\n"
      ],
      "metadata": {
        "colab": {
          "base_uri": "https://localhost:8080/"
        },
        "id": "z0WyFDR43KMg",
        "outputId": "57d3b80f-481d-4a1e-e87c-00d4c0012070"
      },
      "execution_count": 17,
      "outputs": [
        {
          "output_type": "stream",
          "name": "stdout",
          "text": [
            "['anger' 'fear' 'joy']\n",
            "['anger' 'fear' 'joy']\n"
          ]
        }
      ]
    },
    {
      "cell_type": "code",
      "source": [
        "print(y_train_one_hot.dtype)\n",
        "print(np.min(y_train_one_hot), np.max(y_train_one_hot))\n"
      ],
      "metadata": {
        "colab": {
          "base_uri": "https://localhost:8080/"
        },
        "id": "Lx_LeZwR33Jm",
        "outputId": "52f29604-8e9e-4e40-c3f8-a4349aa5b78c"
      },
      "execution_count": 18,
      "outputs": [
        {
          "output_type": "stream",
          "name": "stdout",
          "text": [
            "float32\n",
            "0.0 1.0\n"
          ]
        }
      ]
    },
    {
      "cell_type": "code",
      "execution_count": 21,
      "metadata": {
        "id": "Z5NmTtTKPg9z",
        "colab": {
          "base_uri": "https://localhost:8080/",
          "height": 472
        },
        "outputId": "aaea2a40-021d-4e1d-97e8-07d1f4588da3"
      },
      "outputs": [
        {
          "output_type": "display_data",
          "data": {
            "text/plain": [
              "<Figure size 640x480 with 1 Axes>"
            ],
            "image/png": "[encoded data removed]"
          },
          "metadata": {}
        }
      ],
      "source": [
        "# CONSTRUIR UNA RED NEURONAL SENCILLA\n",
        "\n",
        "\n",
        "# DEFINICIÓN DE INPUT_SHAPE\n",
        "\n",
        "input_shape = [8817]\n",
        "\n",
        "\n",
        "# DEFINE UN MODELO CON DOS CAPAS\n",
        "\n",
        "from keras import models\n",
        "from keras import layers\n",
        "import keras\n",
        "\n",
        "model = models.Sequential()\n",
        "model.add(layers.Dense(32, activation='relu', input_shape=input_shape))\n",
        "model.add(layers.Dense(3, activation='softmax'))  # Ajusta esto a 3 neuronas\n",
        "\n",
        "\n",
        "# COMPILA EL MODELO\n",
        "\n",
        "model.compile(optimizer='adam',\n",
        "              loss='categorical_crossentropy',\n",
        "              metrics=['accuracy'])\n",
        "\n",
        "\n",
        "x_val = x_train[:1000]\n",
        "partial_x_train = x_train[1000:]\n",
        "\n",
        "y_val = y_train_one_hot[:1000]\n",
        "partial_y_train = y_train_one_hot[1000:]\n",
        "\n",
        "early_stopping = keras.callbacks.EarlyStopping(\n",
        "    patience=5,\n",
        "    min_delta=0.001,\n",
        "    restore_best_weights=True,\n",
        ")\n",
        "\n",
        "# ENTRENA EL MODELO\n",
        "\n",
        "history = model.fit(partial_x_train,\n",
        "                    partial_y_train,\n",
        "                    epochs=20,\n",
        "                    batch_size=128,\n",
        "                    callbacks=[early_stopping],\n",
        "                    verbose=0,\n",
        "                    validation_data=(x_val, y_val))\n",
        "\n",
        "\n",
        "# DIBUJA LAS CURVAS DE APRENDIZAJE\n",
        "\n",
        "import matplotlib.pyplot as plt\n",
        "\n",
        "loss = history.history['loss']\n",
        "val_loss = history.history['val_loss']\n",
        "\n",
        "epochs = range(1, len(loss) + 1)\n",
        "\n",
        "plt.plot(epochs, loss, 'bo', label='Training loss')\n",
        "plt.plot(epochs, val_loss, 'b', label='Validation loss')\n",
        "plt.title('Training and validation loss')\n",
        "plt.xlabel('Epochs')\n",
        "plt.ylabel('Loss')\n",
        "plt.legend()\n",
        "\n",
        "plt.show()\n"
      ]
    },
    {
      "cell_type": "code",
      "source": [
        "# EVALÚA EL MODELO\n",
        "val_predictions = model.predict(x_val)\n",
        "print(val_predictions)\n",
        "\n",
        "score1 = model.evaluate(x_val, y_val, verbose=1)\n",
        "print(\"Accuracy: \", score1[1])"
      ],
      "metadata": {
        "colab": {
          "base_uri": "https://localhost:8080/"
        },
        "id": "-bYdHBN_Lwz7",
        "outputId": "1a7f14e3-3520-4104-ebac-fceb1a452c67"
      },
      "execution_count": 23,
      "outputs": [
        {
          "output_type": "stream",
          "name": "stdout",
          "text": [
            "32/32 [==============================] - 0s 4ms/step\n",
            "[[0.00744949 0.9856924  0.00685814]\n",
            " [0.15455048 0.75817555 0.08727398]\n",
            " [0.01160775 0.03381523 0.95457697]\n",
            " ...\n",
            " [0.00554708 0.98347324 0.01097974]\n",
            " [0.9956911  0.00329579 0.00101302]\n",
            " [0.37763295 0.6117691  0.01059792]]\n",
            "32/32 [==============================] - 0s 4ms/step - loss: 0.2274 - accuracy: 0.9250\n",
            "Accuracy:  0.925000011920929\n"
          ]
        }
      ]
    },
    {
      "cell_type": "code",
      "source": [
        "# CONSTRUIR UNA RED NEURONAL CON VARIAS CAPAS\n",
        "\n",
        "# DEFINICIÓN DE INPUT_SHAPE\n",
        "\n",
        "input_shape = [8817]\n",
        "\n",
        "from keras import models\n",
        "from keras import layers\n",
        "import keras\n",
        "\n",
        "# DEFINE UN MODELO CON VARIAS CAPAS\n",
        "\n",
        "model2 = models.Sequential()\n",
        "model2.add(layers.Dense(64, activation='relu', input_shape=input_shape))\n",
        "model2.add(layers.Dense(32, activation='relu'))\n",
        "model2.add(layers.Dense(3, activation='softmax'))  # Ajusta esto a 3 neuronas\n",
        "\n",
        "\n",
        "# COMPILA EL MODELO\n",
        "\n",
        "model2.compile(optimizer='adam',\n",
        "              loss='categorical_crossentropy',\n",
        "              metrics=['accuracy'])\n",
        "\n",
        "\n",
        "# ENTRENA EL MODELO\n",
        "history2 = model2.fit(partial_x_train,\n",
        "                    partial_y_train,\n",
        "                    epochs=7,\n",
        "                    batch_size=128,\n",
        "                    verbose=0,\n",
        "                    validation_data=(x_val, y_val))\n",
        "\n",
        "\n",
        "# DIBUJA LAS CURVAS DE APRENDIZAJE\n",
        "\n",
        "import matplotlib.pyplot as plt\n",
        "\n",
        "loss = history2.history['loss']\n",
        "val_loss = history2.history['val_loss']\n",
        "\n",
        "epochs = range(1, len(loss) + 1)\n",
        "\n",
        "plt.plot(epochs, loss, 'bo', label='Training loss')\n",
        "plt.plot(epochs, val_loss, 'b', label='Validation loss')\n",
        "plt.title('Training and validation loss')\n",
        "plt.xlabel('Epochs')\n",
        "plt.ylabel('Loss')\n",
        "plt.legend()\n",
        "\n",
        "plt.show()\n"
      ],
      "metadata": {
        "colab": {
          "base_uri": "https://localhost:8080/",
          "height": 472
        },
        "id": "KpoZU6iOL7tV",
        "outputId": "a25a824d-db02-4246-c43b-584ac49887d1"
      },
      "execution_count": 24,
      "outputs": [
        {
          "output_type": "display_data",
          "data": {
            "text/plain": [
              "<Figure size 640x480 with 1 Axes>"
            ],
            "image/png": "[encoded data removed]"
          },
          "metadata": {}
        }
      ]
    },
    {
      "cell_type": "code",
      "source": [
        "# EVALÚA EL MODELO\n",
        "val_predictions = model2.predict(x_val)\n",
        "print(val_predictions)\n",
        "\n",
        "score2 = model2.evaluate(x_val, y_val, verbose=1)\n",
        "print(\"Accuracy: \", score2[1])"
      ],
      "metadata": {
        "colab": {
          "base_uri": "https://localhost:8080/"
        },
        "id": "Ey-fBCptMUL9",
        "outputId": "bf62060e-6508-4730-9644-ff466bff3f8e"
      },
      "execution_count": 25,
      "outputs": [
        {
          "output_type": "stream",
          "name": "stdout",
          "text": [
            "32/32 [==============================] - 0s 8ms/step\n",
            "[[2.2537163e-03 9.9722111e-01 5.2518043e-04]\n",
            " [2.1275543e-01 7.0415002e-01 8.3094575e-02]\n",
            " [6.9186790e-03 9.3334457e-03 9.8374784e-01]\n",
            " ...\n",
            " [4.4537764e-03 9.9090588e-01 4.6402579e-03]\n",
            " [9.9765712e-01 1.7717046e-03 5.7111995e-04]\n",
            " [4.6240491e-01 5.3538710e-01 2.2079770e-03]]\n",
            "32/32 [==============================] - 1s 15ms/step - loss: 0.2165 - accuracy: 0.9230\n",
            "Accuracy:  0.9229999780654907\n"
          ]
        }
      ]
    },
    {
      "cell_type": "code",
      "source": [
        "# CONSTRUIR UNA RED NEURONAL CON VARIAS CAPAS Y REGULARIZACIÓN\n",
        "\n",
        "# DEFINICIÓN DE INPUT_SHAPE\n",
        "\n",
        "input_shape = [8817]\n",
        "\n",
        "\n",
        "# DEFINE UN MODELO CON VARIAS CAPAS\n",
        "\n",
        "model3 = keras.Sequential([\n",
        "    layers.BatchNormalization(input_shape=input_shape),\n",
        "\n",
        "    layers.Dense(32, activation='relu'),\n",
        "    layers.BatchNormalization(),\n",
        "    layers.Dropout(0.3),\n",
        "\n",
        "    layers.Dense(16, activation='relu'),\n",
        "    layers.BatchNormalization(),\n",
        "    layers.Dropout(0.2),\n",
        "\n",
        "    layers.Dense(3, activation='softmax'),\n",
        "])\n",
        "\n",
        "\n",
        "# COMPILA EL MODELO\n",
        "\n",
        "model3.compile(optimizer='adam',\n",
        "              loss='categorical_crossentropy',\n",
        "              metrics=['accuracy'])\n",
        "\n",
        "\n",
        "early_stopping = keras.callbacks.EarlyStopping(\n",
        "    patience=3,\n",
        "    min_delta=0.001,\n",
        "    restore_best_weights=True,\n",
        ")\n",
        "\n",
        "\n",
        "# ENTRENA EL MODELO\n",
        "history3 = model3.fit(partial_x_train,\n",
        "                    partial_y_train,\n",
        "                    epochs=100,\n",
        "                    batch_size=128,\n",
        "                    verbose=0,\n",
        "                    callbacks=[early_stopping],\n",
        "                    validation_data=(x_val, y_val))\n",
        "\n",
        "\n",
        "\n",
        "\n",
        "\n",
        "# DIBUJA LAS CURVAS DE APRENDIZAJE\n",
        "\n",
        "import matplotlib.pyplot as plt\n",
        "\n",
        "loss = history3.history['loss']\n",
        "val_loss = history3.history['val_loss']\n",
        "\n",
        "epochs = range(1, len(loss) + 1)\n",
        "\n",
        "plt.plot(epochs, loss, 'bo', label='Training loss')\n",
        "plt.plot(epochs, val_loss, 'b', label='Validation loss')\n",
        "plt.title('Training and validation loss')\n",
        "plt.xlabel('Epochs')\n",
        "plt.ylabel('Loss')\n",
        "plt.legend()\n",
        "\n",
        "plt.show()\n",
        "\n"
      ],
      "metadata": {
        "colab": {
          "base_uri": "https://localhost:8080/",
          "height": 472
        },
        "id": "w5nuoOj6TUok",
        "outputId": "780b9631-8af5-4f2c-fc33-e90cf4b7d466"
      },
      "execution_count": 38,
      "outputs": [
        {
          "output_type": "display_data",
          "data": {
            "text/plain": [
              "<Figure size 640x480 with 1 Axes>"
            ],
            "image/png": "[encoded data removed]"
          },
          "metadata": {}
        }
      ]
    },
    {
      "cell_type": "code",
      "source": [
        "# EVALÚA EL MODELO\n",
        "val_predictions = model3.predict(x_val)\n",
        "print(val_predictions)\n",
        "\n",
        "score3 = model3.evaluate(x_val, y_val, verbose=1)\n",
        "print(\"Accuracy: \", score3[1])"
      ],
      "metadata": {
        "colab": {
          "base_uri": "https://localhost:8080/"
        },
        "id": "7UaPmQybTff2",
        "outputId": "77f4f720-a663-42a9-8ae4-e638ef3f94e0"
      },
      "execution_count": 39,
      "outputs": [
        {
          "output_type": "stream",
          "name": "stdout",
          "text": [
            "32/32 [==============================] - 0s 6ms/step\n",
            "[[0.05258021 0.9379103  0.00950942]\n",
            " [0.20641036 0.71292627 0.08066336]\n",
            " [0.03215163 0.18110931 0.78673905]\n",
            " ...\n",
            " [0.00271717 0.9912511  0.00603176]\n",
            " [0.99377114 0.00406435 0.00216453]\n",
            " [0.51029104 0.45069855 0.03901053]]\n",
            "32/32 [==============================] - 0s 6ms/step - loss: 0.2665 - accuracy: 0.9070\n",
            "Accuracy:  0.9070000052452087\n"
          ]
        }
      ]
    },
    {
      "cell_type": "code",
      "execution_count": 40,
      "metadata": {
        "id": "z7QnHwiSQNO6",
        "colab": {
          "base_uri": "https://localhost:8080/"
        },
        "outputId": "c1741f8c-33b2-420d-b96e-da7e4549e018"
      },
      "outputs": [
        {
          "output_type": "stream",
          "name": "stdout",
          "text": [
            "0.925000011920929 0.9229999780654907 0.9070000052452087\n"
          ]
        }
      ],
      "source": [
        "# ESCRIBE Y COMPARA TODOS LOS RESULTADOS DE ACCURACY OBTENIDOS POR TODOS LOS MODELOS E INDICA CUAL ES MEJOR\n",
        "print(score1[1], score2[1], score3[1])"
      ]
    },
    {
      "cell_type": "markdown",
      "source": [
        "Había obtenido resultados de accuracy más altos para los dos últimos modelos, no sé por qué al volver a ejecutarlos, los resultados han cambiado y ahora el que mejor funciona es el modelo sencillo."
      ],
      "metadata": {
        "id": "_CixHJlwSFnr"
      }
    },
    {
      "cell_type": "code",
      "source": [
        "# PARA EL MEJOR MODELO BUSCA UN EJEMPLO QUE FALLE Y TRATA DE EXPLICAR PORQUE FALLA\n",
        "import numpy as np\n",
        "\n",
        "# Predice las etiquetas para el conjunto de prueba\n",
        "y_pred = model.predict(x_test)\n",
        "\n",
        "# Convierte las predicciones a etiquetas numéricas\n",
        "y_pred_numeric = np.argmax(y_pred, axis=1)\n",
        "\n",
        "# Convierte las etiquetas reales a etiquetas numéricas\n",
        "y_test_numeric = np.argmax(y_test_one_hot, axis=1)\n",
        "\n",
        "# Encuentra los índices de las predicciones incorrectas\n",
        "misclassified_indices = np.where(y_pred_numeric != y_test_numeric)[0]\n",
        "# Obtén la lista de palabras únicas del tokenizer\n",
        "word_index = tokenizer.word_index\n",
        "reverse_word_index = dict([(value, key) for (key, value) in word_index.items()])\n",
        "unique_words = [reverse_word_index[i] for i in range(1, len(word_index) + 1)]\n",
        "\n",
        "# Convierte las predicciones y etiquetas reales a etiquetas de texto\n",
        "predicted_labels = label_encoder.inverse_transform(np.argmax(y_pred, axis=1))\n",
        "true_labels = label_encoder.inverse_transform(np.argmax(y_test_one_hot, axis=1))\n",
        "\n",
        "# Imprime algunos ejemplos mal clasificados\n",
        "for index in misclassified_indices[:min(3, len(misclassified_indices))]:\n",
        "    print(f\"Índice: {index}\")\n",
        "    print(f\"Texto de entrada:\")\n",
        "    print(X_test.iloc[index])  # Asumiendo que X_test es tu DataFrame de texto\n",
        "    print(f\"Predicción: {predicted_labels[index]}, Etiqueta real: {true_labels[index]}\")\n",
        "    print(\"\\n\" + \"=\"*50 + \"\\n\")\n"
      ],
      "metadata": {
        "colab": {
          "base_uri": "https://localhost:8080/"
        },
        "id": "BzGt9iueRk8-",
        "outputId": "9ccbfb0c-4aab-4ee7-a1c2-043af6dceaad"
      },
      "execution_count": 47,
      "outputs": [
        {
          "output_type": "stream",
          "name": "stdout",
          "text": [
            "38/38 [==============================] - 1s 11ms/step\n",
            "Índice: 0\n",
            "Texto de entrada:\n",
            "got bit caught moment forgot core rude comments silly songs real feelings beloved brilliant comic actor sweet big hearted young woman\n",
            "Predicción: anger, Etiqueta real: joy\n",
            "\n",
            "==================================================\n",
            "\n",
            "Índice: 6\n",
            "Texto de entrada:\n",
            "feel safe encoding utf locale en isprivate false ismobile false mobileclass isprivateblog false languagedirection ltr feedlinks link rel alternate type application atom xml title could use standing ovation could\n",
            "Predicción: fear, Etiqueta real: joy\n",
            "\n",
            "==================================================\n",
            "\n",
            "Índice: 20\n",
            "Texto de entrada:\n",
            "started feel super emotional time strange\n",
            "Predicción: fear, Etiqueta real: joy\n",
            "\n",
            "==================================================\n",
            "\n"
          ]
        }
      ]
    },
    {
      "cell_type": "markdown",
      "source": [
        "El primer ejemplo que se muestra, el modelo lo ha clasificado como \"anger\" cuando en realidad, es \"joy\". Parece que para el modelo las palabras \"rude comments\" y \"silly songs\" han tenido más peso que \"beloved\", \"brilliant actor\" y \"sweet big hearted\". En el tercer ejemplo, se ha etiquetado como \"fear\" cuando en realidad, era \"joy\". De nuevo aquí, el modelo le da más peso a \"strange\" que ha \"super emotional\". Supongo que el fallo es que las descripciones de las emociones son muy cortas, teniendo un máximo de 19 palabras como calculamos al principio del cuaderno. Esto hace que haya situaciones en las que a lo mejor haya la misma cantidad de palabras asociadas a una emoción que a otra. En estos casos se ha de ser muy preciso y algo que para un humano es claro de identificar, para el modelo puede ser más complicado. La solución sería tener textos más largos para que el modelo calcule bien los pesos de las palabras que le dan la clave en la clasificación de la emoción. De todas maneras, hemos conseguido un modelo con más de un 90% de acierto."
      ],
      "metadata": {
        "id": "Ll37-EtfSfXF"
      }
    }
  ],
  "metadata": {
    "colab": {
      "provenance": []
    },
    "kernelspec": {
      "display_name": "Python 3",
      "name": "python3"
    },
    "language_info": {
      "name": "python"
    }
  },
  "nbformat": 4,
  "nbformat_minor": 0
}